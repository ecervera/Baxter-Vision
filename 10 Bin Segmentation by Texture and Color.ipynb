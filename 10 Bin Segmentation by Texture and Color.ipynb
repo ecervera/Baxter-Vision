{
 "cells": [
  {
   "cell_type": "code",
   "execution_count": null,
   "metadata": {
    "collapsed": true
   },
   "outputs": [],
   "source": [
    "import cv2, numpy as np\n",
    "from matplotlib import pyplot as plt\n",
    "%matplotlib inline"
   ]
  },
  {
   "cell_type": "markdown",
   "metadata": {},
   "source": [
    "## Load Parameters"
   ]
  },
  {
   "cell_type": "code",
   "execution_count": null,
   "metadata": {
    "collapsed": true
   },
   "outputs": [],
   "source": [
    "from utils import read_json\n",
    "\n",
    "params = read_json('parameters.json')\n",
    "\n",
    "RESIZE_X = params['resize']['x']\n",
    "RESIZE_Y = params['resize']['y']\n",
    "ITEM_FOLDER = params['item_folder']"
   ]
  },
  {
   "cell_type": "markdown",
   "metadata": {},
   "source": [
    "## Input Data\n",
    "* Image of the bin\n",
    "* List of items in the bin"
   ]
  },
  {
   "cell_type": "code",
   "execution_count": null,
   "metadata": {
    "collapsed": true
   },
   "outputs": [],
   "source": [
    "bin_stamp = '170405145336'\n",
    "contents = [\"Colgate_Toothbrush_4PK\",\"Epsom_Salts\",\"Duct_Tape\",\n",
    "            \"Bath_Sponge\",\"Crayons\",\"Burts_Bees_Baby_Wipes\"]"
   ]
  },
  {
   "cell_type": "code",
   "execution_count": null,
   "metadata": {
    "collapsed": true
   },
   "outputs": [],
   "source": [
    "bin_stamp = '170405145538'\n",
    "contents = [\"glue_sticks\",\"tissue_box\",\"laugh_out_loud_jokes\",\n",
    "            \"toilet_brush\",\"expo_eraser\",\"table_cloth\"]"
   ]
  },
  {
   "cell_type": "code",
   "execution_count": null,
   "metadata": {
    "collapsed": true
   },
   "outputs": [],
   "source": [
    "contents = [s.lower() for s in contents]"
   ]
  },
  {
   "cell_type": "markdown",
   "metadata": {},
   "source": [
    "## Phase 1: Recognition by SIFT Features\n",
    "### Compute Features in Bin"
   ]
  },
  {
   "cell_type": "code",
   "execution_count": null,
   "metadata": {
    "collapsed": false
   },
   "outputs": [],
   "source": [
    "from utils import imread_rgb, compute_sift, draw_keypoints\n",
    "\n",
    "filename_bin = 'bin/' + bin_stamp + '.png'\n",
    "image_bin = imread_rgb(filename_bin)\n",
    "(kp_bin, des_bin) = compute_sift(image_bin)\n",
    "print('%d features detected in bin' % len(kp_bin))\n",
    "draw_keypoints(image_bin,kp_bin)"
   ]
  },
  {
   "cell_type": "markdown",
   "metadata": {},
   "source": [
    "### Match Bin and Items Features"
   ]
  },
  {
   "cell_type": "code",
   "execution_count": null,
   "metadata": {
    "collapsed": true
   },
   "outputs": [],
   "source": [
    "from utils import read_features_from_file, read_bbox_from_file, unpack_keypoint, calc_matches\n",
    "\n",
    "items = list(contents)"
   ]
  },
  {
   "cell_type": "code",
   "execution_count": null,
   "metadata": {
    "collapsed": false
   },
   "outputs": [],
   "source": [
    "item_d = {}\n",
    "recognised_items = []\n",
    "image_disp = image_bin.copy()\n",
    "mask_bin = np.zeros(image_bin.shape[0:2]).astype('uint8')\n",
    "for item in items:\n",
    "    prefix = ITEM_FOLDER + '/' + item + '/' + item\n",
    "    filename = prefix + '_top_01_sift.npy'\n",
    "    kp, des = read_features_from_file(filename)\n",
    "    kp, des = unpack_keypoint(kp, des)\n",
    "    des = des.astype('float32')\n",
    "    good = calc_matches(des, des_bin)\n",
    "    item_d[item] = {'file': filename, 'kp': kp, 'des': des, 'good': good}\n",
    "    \n",
    "    filename = prefix + '_bottom_01_sift.npy'\n",
    "    kp, des = read_features_from_file(filename)\n",
    "    kp, des = unpack_keypoint(kp, des)\n",
    "    des = des.astype('float32')\n",
    "    good = calc_matches(des, des_bin)\n",
    "    if len(good) > len(item_d[item]['good']):\n",
    "        item_d[item] = {'file': filename, 'kp': kp, 'des': des, 'good': good}\n",
    "\n",
    "    print('Item: \"%s\" Good features: %d' % (item_d[item]['file'], \n",
    "                                          len(item_d[item]['good'])))\n",
    "    MIN_MATCH_COUNT=10\n",
    "    kp = item_d[item]['kp']\n",
    "    good = item_d[item]['good']\n",
    "    if len(good) > MIN_MATCH_COUNT:\n",
    "        dst_pts = [ kp_bin[m.trainIdx] for m in good ]\n",
    "        image_disp = cv2.drawKeypoints(image_disp,dst_pts,color=(0,255,0))\n",
    "        recognised_items.append(item)\n",
    "        src_pts = np.float32([ kp[m.queryIdx].pt for m in good ]).reshape(-1,1,2)\n",
    "        dst_pts = np.float32([ kp_bin[m.trainIdx].pt for m in good ]).reshape(-1,1,2)\n",
    "        M, mask = cv2.findHomography(src_pts, dst_pts, cv2.RANSAC,5.0)\n",
    "        x, y, w, h = read_bbox_from_file(item_d[item]['file'][:-9] + '_bbox.json')\n",
    "        pts = np.float32([ [x,y],[x,y+h-1],[x+w-1,y+h-1],[x+w-1,y] ]).reshape(-1,1,2)\n",
    "        dst = cv2.perspectiveTransform(pts,M)\n",
    "        cv2.polylines(image_disp,[np.int32(dst)],True,(0,255,0),2, cv2.CV_AA)\n",
    "        cv2.fillConvexPoly(mask_bin,np.int32(dst),(255,))\n",
    "\n",
    "plt.imshow(image_disp), plt.axis('off');"
   ]
  },
  {
   "cell_type": "code",
   "execution_count": null,
   "metadata": {
    "collapsed": false
   },
   "outputs": [],
   "source": [
    "plt.imshow(mask_bin,cmap='gray'), plt.axis('off');"
   ]
  },
  {
   "cell_type": "code",
   "execution_count": null,
   "metadata": {
    "collapsed": false
   },
   "outputs": [],
   "source": [
    "kernel = np.ones((3,3),np.uint8)\n",
    "mask_bin = cv2.dilate(mask_bin,kernel,iterations = 5)\n",
    "plt.imshow(mask_bin,cmap='gray'), plt.axis('off');"
   ]
  },
  {
   "cell_type": "markdown",
   "metadata": {
    "collapsed": false
   },
   "source": [
    "## Phase 2: Recognition by Color"
   ]
  },
  {
   "cell_type": "code",
   "execution_count": null,
   "metadata": {
    "collapsed": false
   },
   "outputs": [],
   "source": [
    "%%time\n",
    "from sklearn.cluster import KMeans, MiniBatchKMeans\n",
    "\n",
    "n_cc = 20\n",
    "image_RGBA = np.dstack((image_bin, 255-mask_bin))\n",
    "pixels = image_RGBA.reshape((image_RGBA.shape[0] * image_RGBA.shape[1], 4))\n",
    "filtered_pixels = np.array(filter(lambda x:x[3]==255,pixels))\n",
    "n, _ = filtered_pixels.shape\n",
    "pixels_LAB = cv2.cvtColor(filtered_pixels[:,0:3].reshape(1,n,3),cv2.COLOR_RGB2LAB)\n",
    "pixels_LAB = pixels_LAB.reshape(n,3)\n",
    "clt = MiniBatchKMeans(n_clusters = n_cc)\n",
    "clt.fit(pixels_LAB)"
   ]
  },
  {
   "cell_type": "code",
   "execution_count": null,
   "metadata": {
    "collapsed": false
   },
   "outputs": [],
   "source": [
    "image = cv2.cvtColor(image_bin, cv2.COLOR_RGB2LAB)\n",
    "(h_bin, w_bin) = image.shape[:2]\n",
    "pixels = image.reshape((image.shape[0] * image.shape[1], 3))\n",
    "labels = clt.predict(pixels)\n",
    "quant = clt.cluster_centers_.astype(\"uint8\")[labels]\n",
    "quant = quant.reshape((h_bin, w_bin, 3))\n",
    "quant = cv2.cvtColor(quant, cv2.COLOR_LAB2RGB)\n",
    "plt.subplot(121),plt.imshow(cv2.bitwise_and(image_bin,image_bin,mask=255-mask_bin)),plt.title('Original'),plt.axis('off');\n",
    "plt.subplot(122),plt.imshow(cv2.bitwise_and(quant,quant,mask=255-mask_bin)),plt.title('%d colors' % n_cc),plt.axis('off');\n",
    "bin_cc = clt.cluster_centers_"
   ]
  },
  {
   "cell_type": "code",
   "execution_count": null,
   "metadata": {
    "collapsed": false
   },
   "outputs": [],
   "source": [
    "bin_hist, _ = np.histogram(clt.predict(pixels_LAB),bins=range(n_cc+1))\n",
    "plt.bar(range(n_cc), bin_hist);"
   ]
  },
  {
   "cell_type": "code",
   "execution_count": null,
   "metadata": {
    "collapsed": false
   },
   "outputs": [],
   "source": [
    "sort_index = np.argsort(bin_hist)[::-1]\n",
    "sort_index"
   ]
  },
  {
   "cell_type": "code",
   "execution_count": null,
   "metadata": {
    "collapsed": false
   },
   "outputs": [],
   "source": [
    "recognised_items"
   ]
  },
  {
   "cell_type": "code",
   "execution_count": null,
   "metadata": {
    "collapsed": false
   },
   "outputs": [],
   "source": [
    "items = [s for s in contents if s not in recognised_items]\n",
    "items"
   ]
  },
  {
   "cell_type": "code",
   "execution_count": null,
   "metadata": {
    "collapsed": true
   },
   "outputs": [],
   "source": [
    "positions = []\n",
    "weights = []"
   ]
  },
  {
   "cell_type": "markdown",
   "metadata": {},
   "source": [
    "### While not sort_index is empty"
   ]
  },
  {
   "cell_type": "code",
   "execution_count": null,
   "metadata": {
    "collapsed": false
   },
   "outputs": [],
   "source": [
    "obj_label = sort_index[0]\n",
    "d_other = [np.linalg.norm(bin_cc[obj_label,1:]-bin_cc[other,1:]) for other in sort_index]\n",
    "obj_labels = [sort_index[idx] for idx,val in enumerate(d_other) if val<20]\n",
    "obj_labels"
   ]
  },
  {
   "cell_type": "code",
   "execution_count": null,
   "metadata": {
    "collapsed": false
   },
   "outputs": [],
   "source": [
    "# Weighting the histogram of dominant colors \n",
    "obj_hist = np.array([bin_hist[obj_l] for obj_l in obj_labels],dtype='float32')\n",
    "obj_hist = obj_hist / np.sum(obj_hist)\n",
    "obj_hist"
   ]
  },
  {
   "cell_type": "code",
   "execution_count": null,
   "metadata": {
    "collapsed": false
   },
   "outputs": [],
   "source": [
    "sort_index = np.array([x for x in sort_index if x not in obj_labels])\n",
    "sort_index"
   ]
  },
  {
   "cell_type": "code",
   "execution_count": null,
   "metadata": {
    "collapsed": false
   },
   "outputs": [],
   "source": [
    "mask = np.zeros((h_bin, w_bin)).astype('uint8')\n",
    "for val_label in obj_labels:\n",
    "    mask = cv2.bitwise_or( mask, ((labels==val_label).astype('uint8') * 255).reshape((h_bin, w_bin)) )\n",
    "mask = cv2.bitwise_and( mask, 255-mask_bin)\n",
    "kernel = np.ones((3,3),np.uint8)\n",
    "mask = cv2.erode(mask,kernel,iterations = 3)\n",
    "mask = cv2.dilate(mask,kernel,iterations = 3)\n",
    "\n",
    "image_disp = cv2.bitwise_and(image_bin,image_bin,mask=mask)\n",
    "cnt, _ = cv2.findContours(mask,cv2.RETR_EXTERNAL,cv2.CHAIN_APPROX_SIMPLE)\n",
    "cnt = sorted(cnt, key=lambda x:cv2.contourArea(x), reverse=True)\n",
    "best_pos = []\n",
    "try:\n",
    "    i = 0\n",
    "    while cv2.contourArea(cnt[i]) > 500:\n",
    "        x,y,w,h = cv2.boundingRect(cnt[i])\n",
    "        cv2.rectangle(image_disp,(x,y),(x+w,y+h),(0,255,0),2)\n",
    "        best_pos.append((cv2.contourArea(cnt[i]),cv2.boundingRect(cnt[i])))\n",
    "        i += 1\n",
    "except IndexError:\n",
    "    pass\n",
    "plt.imshow(image_disp); plt.axis('off');\n",
    "positions.append(best_pos)\n",
    "best_pos"
   ]
  },
  {
   "cell_type": "code",
   "execution_count": null,
   "metadata": {
    "collapsed": false
   },
   "outputs": [],
   "source": [
    "best_item = []\n",
    "views = ['top_01','top-side_01','top-side_02','bottom_01','bottom-side_01','bottom-side_02']\n",
    "for item in items:\n",
    "    for view in views:\n",
    "        try:\n",
    "            filename = ITEM_FOLDER + '/' + item + '/' + item + '_' + view + '_dc.json'\n",
    "            dc = read_json(filename)\n",
    "            hist = dc['hist']\n",
    "            obj_cc = dc['cluster_centers']\n",
    "            sum_h = 0\n",
    "            for i in range(5):\n",
    "                d_bin_obj = [np.linalg.norm(obj_cc[i]-bin_cc[obj_l,:]) for obj_l in obj_labels]\n",
    "                index_min = np.argmin(d_bin_obj)\n",
    "                if d_bin_obj[index_min] < 25:\n",
    "                    sum_h += hist[i] * obj_hist[index_min]\n",
    "                    # hist[i] is the number of pixels in the image -> count only in rectangle?\n",
    "            if sum_h > 0.05:\n",
    "                best_item.append((sum_h,item,view))\n",
    "        except IOError:\n",
    "            pass\n",
    "#best_item = sorted(best_item,reverse=True)\n",
    "#best_item\n",
    "best_item_one = []\n",
    "for it in items:\n",
    "    try:\n",
    "        w = max([bi[0] for bi in best_item if bi[1]==it])\n",
    "        best_item_one.append((w,it))\n",
    "    except ValueError:\n",
    "        pass\n",
    "weights.append(best_item_one)\n",
    "best_item_one"
   ]
  },
  {
   "cell_type": "markdown",
   "metadata": {},
   "source": [
    "### End While"
   ]
  },
  {
   "cell_type": "code",
   "execution_count": null,
   "metadata": {
    "collapsed": false
   },
   "outputs": [],
   "source": [
    "positions"
   ]
  },
  {
   "cell_type": "code",
   "execution_count": null,
   "metadata": {
    "collapsed": false
   },
   "outputs": [],
   "source": [
    "weights"
   ]
  },
  {
   "cell_type": "code",
   "execution_count": null,
   "metadata": {
    "collapsed": false
   },
   "outputs": [],
   "source": [
    "item = 'table_cloth'\n",
    "item = 'tissue_box'\n",
    "item = 'glue_sticks'\n",
    "#item = 'toilet_brush'\n",
    "\n",
    "poses = []\n",
    "for idx, val in enumerate(weights):\n",
    "    w = [elem[0] for elem in val if elem[1]==item]\n",
    "    if w:\n",
    "        poses.append((w[0],positions[idx]))"
   ]
  },
  {
   "cell_type": "code",
   "execution_count": null,
   "metadata": {
    "collapsed": false
   },
   "outputs": [],
   "source": [
    "poses"
   ]
  },
  {
   "cell_type": "code",
   "execution_count": null,
   "metadata": {
    "collapsed": false
   },
   "outputs": [],
   "source": [
    "image_disp = image_bin.copy()\n",
    "for p in poses:\n",
    "    for bb in p[1]:\n",
    "        x, y, w, h = bb[1]\n",
    "        cv2.rectangle(image_disp,(x,y),(x+w,y+h),(0,255,0),int(20*p[0]))\n",
    "plt.imshow(image_disp);"
   ]
  },
  {
   "cell_type": "code",
   "execution_count": null,
   "metadata": {
    "collapsed": true
   },
   "outputs": [],
   "source": [
    "# Intersection of rectangles of two different colors"
   ]
  },
  {
   "cell_type": "code",
   "execution_count": null,
   "metadata": {
    "collapsed": true
   },
   "outputs": [],
   "source": [
    "# if only one bbox, include it"
   ]
  }
 ],
 "metadata": {
  "kernelspec": {
   "display_name": "Python 2",
   "language": "python",
   "name": "python2"
  },
  "language_info": {
   "codemirror_mode": {
    "name": "ipython",
    "version": 2
   },
   "file_extension": ".py",
   "mimetype": "text/x-python",
   "name": "python",
   "nbconvert_exporter": "python",
   "pygments_lexer": "ipython2",
   "version": "2.7.6"
  }
 },
 "nbformat": 4,
 "nbformat_minor": 2
}
