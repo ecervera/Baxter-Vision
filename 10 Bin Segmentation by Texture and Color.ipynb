{
 "cells": [
  {
   "cell_type": "code",
   "execution_count": null,
   "metadata": {
    "collapsed": true
   },
   "outputs": [],
   "source": [
    "import cv2, numpy as np\n",
    "from matplotlib import pyplot as plt\n",
    "%matplotlib inline"
   ]
  },
  {
   "cell_type": "markdown",
   "metadata": {},
   "source": [
    "## Load Parameters"
   ]
  },
  {
   "cell_type": "code",
   "execution_count": null,
   "metadata": {
    "collapsed": true
   },
   "outputs": [],
   "source": [
    "from utils import read_json\n",
    "\n",
    "params = read_json('parameters.json')\n",
    "\n",
    "RESIZE_X = params['resize']['x']\n",
    "RESIZE_Y = params['resize']['y']\n",
    "ITEM_FOLDER = params['item_folder']"
   ]
  },
  {
   "cell_type": "markdown",
   "metadata": {},
   "source": [
    "## Input Data\n",
    "* Image of the bin\n",
    "* List of items in the bin"
   ]
  },
  {
   "cell_type": "code",
   "execution_count": null,
   "metadata": {
    "collapsed": true
   },
   "outputs": [],
   "source": [
    "bin_stamp = '170405145336'\n",
    "contents = [\"Colgate_Toothbrush_4PK\",\"Epsom_Salts\",\"Duct_Tape\",\n",
    "            \"Bath_Sponge\",\"Crayons\",\"Burts_Bees_Baby_Wipes\"]"
   ]
  },
  {
   "cell_type": "code",
   "execution_count": null,
   "metadata": {
    "collapsed": true
   },
   "outputs": [],
   "source": [
    "bin_stamp = '170405145538'\n",
    "contents = [\"glue_sticks\",\"tissue_box\",\"laugh_out_loud_jokes\",\n",
    "            \"toilet_brush\",\"expo_eraser\",\"table_cloth\"]"
   ]
  },
  {
   "cell_type": "markdown",
   "metadata": {},
   "source": [
    "## Phase 1: Recognition by SIFT Features\n",
    "### Compute Features in Bin"
   ]
  },
  {
   "cell_type": "code",
   "execution_count": null,
   "metadata": {
    "collapsed": false
   },
   "outputs": [],
   "source": [
    "from utils import imread_rgb, compute_sift, draw_keypoints\n",
    "\n",
    "filename_bin = 'bin/' + bin_stamp + '.png'\n",
    "image_bin = imread_rgb(filename_bin)\n",
    "(kp_bin, des_bin) = compute_sift(image_bin)\n",
    "print('%d features detected in bin' % len(kp_bin))\n",
    "draw_keypoints(image_bin,kp_bin)"
   ]
  },
  {
   "cell_type": "markdown",
   "metadata": {},
   "source": [
    "### Optional: apply mask to textured region"
   ]
  },
  {
   "cell_type": "code",
   "execution_count": null,
   "metadata": {
    "collapsed": false
   },
   "outputs": [],
   "source": [
    "from utils import textured_mask\n",
    "\n",
    "tx_mask = textured_mask(image_bin, kp_bin)\n",
    "tx_image =     cv2.bitwise_and(image_bin, image_bin, mask=tx_mask)\n",
    "non_tx_image = cv2.bitwise_and(image_bin, image_bin, mask=255-tx_mask)\n",
    "plt.subplot(121), plt.imshow(tx_image),     plt.axis('off'), plt.title('textured');\n",
    "plt.subplot(122), plt.imshow(non_tx_image), plt.axis('off'), plt.title('non textured');"
   ]
  },
  {
   "cell_type": "code",
   "execution_count": null,
   "metadata": {
    "collapsed": false
   },
   "outputs": [],
   "source": [
    "(kp_bin, des_bin) = compute_sift(image_bin, mask=tx_mask)\n",
    "print('%d features detected in bin' % len(kp_bin))\n",
    "draw_keypoints(image_bin,kp_bin)"
   ]
  },
  {
   "cell_type": "markdown",
   "metadata": {},
   "source": [
    "### Match Bin and Items Features"
   ]
  },
  {
   "cell_type": "markdown",
   "metadata": {},
   "source": [
    "#### First iteration\n",
    "Compute features for all the items"
   ]
  },
  {
   "cell_type": "code",
   "execution_count": null,
   "metadata": {
    "collapsed": true
   },
   "outputs": [],
   "source": [
    "from utils import read_features_from_file, read_bbox_from_file, unpack_keypoint, calc_matches\n",
    "\n",
    "items = [s.lower() for s in contents]"
   ]
  },
  {
   "cell_type": "code",
   "execution_count": null,
   "metadata": {
    "collapsed": false
   },
   "outputs": [],
   "source": [
    "item_d = {}\n",
    "recognised_items = []\n",
    "image_disp = image_bin.copy()\n",
    "mask_bin = np.zeros(image_bin.shape[0:2]).astype('uint8')\n",
    "for item in items:\n",
    "    prefix = ITEM_FOLDER + '/' + item + '/' + item\n",
    "    filename = prefix + '_top_01_sift.npy'\n",
    "    kp, des = read_features_from_file(filename)\n",
    "    kp, des = unpack_keypoint(kp, des)\n",
    "    des = des.astype('float32')\n",
    "    good = calc_matches(des, des_bin)\n",
    "    item_d[item] = {'file': filename, 'kp': kp, 'des': des, 'good': good}\n",
    "    \n",
    "    filename = prefix + '_bottom_01_sift.npy'\n",
    "    kp, des = read_features_from_file(filename)\n",
    "    kp, des = unpack_keypoint(kp, des)\n",
    "    des = des.astype('float32')\n",
    "    good = calc_matches(des, des_bin)\n",
    "    if len(good) > len(item_d[item]['good']):\n",
    "        item_d[item] = {'file': filename, 'kp': kp, 'des': des, 'good': good}\n",
    "\n",
    "    print('Item: \"%s\" Good features: %d' % (item_d[item]['file'], \n",
    "                                          len(item_d[item]['good'])))\n",
    "    MIN_MATCH_COUNT=10\n",
    "    kp = item_d[item]['kp']\n",
    "    good = item_d[item]['good']\n",
    "    if len(good) > MIN_MATCH_COUNT:\n",
    "        dst_pts = [ kp_bin[m.trainIdx] for m in good ]\n",
    "        image_disp = cv2.drawKeypoints(image_disp,dst_pts,color=(0,255,0))\n",
    "        recognised_items.append(item)\n",
    "        src_pts = np.float32([ kp[m.queryIdx].pt for m in good ]).reshape(-1,1,2)\n",
    "        dst_pts = np.float32([ kp_bin[m.trainIdx].pt for m in good ]).reshape(-1,1,2)\n",
    "        M, mask = cv2.findHomography(src_pts, dst_pts, cv2.RANSAC,5.0)\n",
    "        #matchesMask = mask.ravel().tolist()\n",
    "        x, y, w, h = read_bbox_from_file(item_d[item]['file'][:-9] + '_bbox.json')\n",
    "        pts = np.float32([ [x,y],[x,y+h-1],[x+w-1,y+h-1],[x+w-1,y] ]).reshape(-1,1,2)\n",
    "        dst = cv2.perspectiveTransform(pts,M)\n",
    "        cv2.polylines(image_disp,[np.int32(dst)],True,(0,255,0),2, cv2.CV_AA)\n",
    "        cv2.fillConvexPoly(mask_bin,np.int32(dst),(255,))\n",
    "\n",
    "plt.imshow(image_disp), plt.axis('off');"
   ]
  },
  {
   "cell_type": "code",
   "execution_count": null,
   "metadata": {
    "collapsed": false
   },
   "outputs": [],
   "source": [
    "plt.imshow(mask_bin,cmap='gray'), plt.axis('off');"
   ]
  },
  {
   "cell_type": "markdown",
   "metadata": {},
   "source": [
    "#### Second iteration\n",
    "Refine features in the projection of the items recognised in the first iteration"
   ]
  },
  {
   "cell_type": "code",
   "execution_count": null,
   "metadata": {
    "collapsed": false
   },
   "outputs": [],
   "source": [
    "(kp_bin, des_bin) = compute_sift(image_bin, mask=mask_bin)\n",
    "print('%d features detected in bin' % len(kp_bin))\n",
    "draw_keypoints(image_bin,kp_bin)"
   ]
  },
  {
   "cell_type": "code",
   "execution_count": null,
   "metadata": {
    "collapsed": true
   },
   "outputs": [],
   "source": [
    "items = recognised_items"
   ]
  },
  {
   "cell_type": "code",
   "execution_count": null,
   "metadata": {
    "collapsed": false
   },
   "outputs": [],
   "source": [
    "item_d = {}\n",
    "recognised_items = []\n",
    "image_disp = image_bin.copy()\n",
    "mask_bin = np.zeros(image_bin.shape[0:2]).astype('uint8')\n",
    "for item in items:\n",
    "    prefix = ITEM_FOLDER + '/' + item + '/' + item\n",
    "    filename = prefix + '_top_01_sift.npy'\n",
    "    kp, des = read_features_from_file(filename)\n",
    "    kp, des = unpack_keypoint(kp, des)\n",
    "    des = des.astype('float32')\n",
    "    good = calc_matches(des, des_bin)\n",
    "    item_d[item] = {'file': filename, 'kp': kp, 'des': des, 'good': good}\n",
    "    \n",
    "    filename = prefix + '_bottom_01_sift.npy'\n",
    "    kp, des = read_features_from_file(filename)\n",
    "    kp, des = unpack_keypoint(kp, des)\n",
    "    des = des.astype('float32')\n",
    "    good = calc_matches(des, des_bin)\n",
    "    if len(good) > len(item_d[item]['good']):\n",
    "        item_d[item] = {'file': filename, 'kp': kp, 'des': des, 'good': good}\n",
    "\n",
    "    print('Item: \"%s\" Good features: %d' % (item_d[item]['file'], \n",
    "                                          len(item_d[item]['good'])))\n",
    "    MIN_MATCH_COUNT=10\n",
    "    kp = item_d[item]['kp']\n",
    "    good = item_d[item]['good']\n",
    "    if len(good) > MIN_MATCH_COUNT:\n",
    "        dst_pts = [ kp_bin[m.trainIdx] for m in good ]\n",
    "        image_disp = cv2.drawKeypoints(image_disp,dst_pts,color=(0,255,0))\n",
    "        recognised_items.append(item)\n",
    "        src_pts = np.float32([ kp[m.queryIdx].pt for m in good ]).reshape(-1,1,2)\n",
    "        dst_pts = np.float32([ kp_bin[m.trainIdx].pt for m in good ]).reshape(-1,1,2)\n",
    "        M, mask = cv2.findHomography(src_pts, dst_pts, cv2.RANSAC,5.0)\n",
    "        matchesMask = mask.ravel().tolist()\n",
    "        x, y, w, h = read_bbox_from_file(item_d[item]['file'][:-9] + '_bbox.json')\n",
    "        pts = np.float32([ [x,y],[x,y+h-1],[x+w-1,y+h-1],[x+w-1,y] ]).reshape(-1,1,2)\n",
    "        dst = cv2.perspectiveTransform(pts,M)\n",
    "        cv2.polylines(image_disp,[np.int32(dst)],True,(0,255,0),2, cv2.CV_AA)\n",
    "        cv2.fillConvexPoly(mask_bin,np.int32(dst),(255,))\n",
    "\n",
    "plt.imshow(image_disp), plt.axis('off');"
   ]
  },
  {
   "cell_type": "code",
   "execution_count": null,
   "metadata": {
    "collapsed": false
   },
   "outputs": [],
   "source": [
    "for it in recognised_items:\n",
    "    print('%20s recognised with %d features' %(it, len(item_d[it]['good'])))\n",
    "plt.imshow(mask_bin,cmap='gray'), plt.axis('off');"
   ]
  },
  {
   "cell_type": "code",
   "execution_count": null,
   "metadata": {
    "collapsed": false
   },
   "outputs": [],
   "source": [
    "kernel = np.ones((3,3),np.uint8)\n",
    "mask_bin = cv2.dilate(mask_bin,kernel,iterations = 5)\n",
    "plt.imshow(mask_bin,cmap='gray'), plt.axis('off');"
   ]
  },
  {
   "cell_type": "markdown",
   "metadata": {
    "collapsed": false
   },
   "source": [
    "## Phase 2: Recognition by Color"
   ]
  },
  {
   "cell_type": "code",
   "execution_count": null,
   "metadata": {
    "collapsed": false
   },
   "outputs": [],
   "source": [
    "%%time\n",
    "from sklearn.cluster import KMeans, MiniBatchKMeans\n",
    "\n",
    "n_cc = 20\n",
    "image_RGBA = np.dstack((image_bin, 255-mask_bin))\n",
    "pixels = image_RGBA.reshape((image_RGBA.shape[0] * image_RGBA.shape[1], 4))\n",
    "filtered_pixels = np.array(filter(lambda x:x[3]==255,pixels))\n",
    "n, _ = filtered_pixels.shape\n",
    "pixels_LAB = cv2.cvtColor(filtered_pixels[:,0:3].reshape(1,n,3),cv2.COLOR_RGB2LAB)\n",
    "pixels_LAB = pixels_LAB.reshape(n,3)\n",
    "clt = MiniBatchKMeans(n_clusters = n_cc)\n",
    "clt.fit(pixels_LAB)\n",
    "plt.imshow(image_RGBA);"
   ]
  },
  {
   "cell_type": "code",
   "execution_count": null,
   "metadata": {
    "collapsed": false
   },
   "outputs": [],
   "source": [
    "image = cv2.cvtColor(image_bin, cv2.COLOR_RGB2LAB)\n",
    "(h_bin, w_bin) = image.shape[:2]\n",
    "pixels = image.reshape((image.shape[0] * image.shape[1], 3))\n",
    "labels = clt.predict(pixels)\n",
    "quant = clt.cluster_centers_.astype(\"uint8\")[labels]\n",
    "quant = quant.reshape((h_bin, w_bin, 3))\n",
    "quant = cv2.cvtColor(quant, cv2.COLOR_LAB2RGB)\n",
    "plt.subplot(121),plt.imshow(cv2.bitwise_and(image_bin,image_bin,mask=255-mask_bin)),plt.title('Original'),plt.axis('off');\n",
    "plt.subplot(122),plt.imshow(cv2.bitwise_and(quant,quant,mask=255-mask_bin)),plt.title('%d colors' % n_cc),plt.axis('off');\n",
    "bin_cc = clt.cluster_centers_"
   ]
  },
  {
   "cell_type": "code",
   "execution_count": null,
   "metadata": {
    "collapsed": false
   },
   "outputs": [],
   "source": [
    "h, _ = np.histogram(clt.predict(pixels_LAB),bins=range(n_cc+1))\n",
    "plt.bar(range(n_cc), h);"
   ]
  },
  {
   "cell_type": "code",
   "execution_count": null,
   "metadata": {
    "collapsed": false
   },
   "outputs": [],
   "source": [
    "sort_index = np.argsort(h)[::-1]\n",
    "sort_index"
   ]
  },
  {
   "cell_type": "code",
   "execution_count": null,
   "metadata": {
    "collapsed": false
   },
   "outputs": [],
   "source": [
    "obj_label = sort_index[0]\n",
    "d_other = [np.linalg.norm(bin_cc[obj_label,1:]-bin_cc[other,1:]) for other in sort_index]\n",
    "obj_labels = [sort_index[idx] for idx,val in enumerate(d_other) if val<20]\n",
    "obj_labels"
   ]
  },
  {
   "cell_type": "code",
   "execution_count": null,
   "metadata": {
    "collapsed": false
   },
   "outputs": [],
   "source": [
    "sort_index = np.array([x for x in sort_index if x not in obj_labels])\n",
    "sort_index"
   ]
  },
  {
   "cell_type": "code",
   "execution_count": null,
   "metadata": {
    "collapsed": false
   },
   "outputs": [],
   "source": [
    "mask = np.zeros((h_bin, w_bin)).astype('uint8')\n",
    "for val_label in obj_labels:\n",
    "    mask = cv2.bitwise_or( mask, ((labels==val_label).astype('uint8') * 255).reshape((h_bin, w_bin)) )\n",
    "mask = cv2.bitwise_and( mask, 255-mask_bin)\n",
    "plt.imshow(cv2.bitwise_and(image_bin,image_bin,mask=mask));"
   ]
  },
  {
   "cell_type": "code",
   "execution_count": null,
   "metadata": {
    "collapsed": false
   },
   "outputs": [],
   "source": [
    "obj_label = sort_index[0]\n",
    "d_other = [np.linalg.norm(bin_cc[obj_label,1:]-bin_cc[other,1:]) for other in sort_index]\n",
    "obj_labels = [sort_index[idx] for idx,val in enumerate(d_other) if val<20]\n",
    "obj_labels"
   ]
  },
  {
   "cell_type": "code",
   "execution_count": null,
   "metadata": {
    "collapsed": false
   },
   "outputs": [],
   "source": [
    "sort_index = np.array([x for x in sort_index if x not in obj_labels])\n",
    "sort_index"
   ]
  },
  {
   "cell_type": "code",
   "execution_count": null,
   "metadata": {
    "collapsed": false
   },
   "outputs": [],
   "source": [
    "mask = np.zeros((h_bin, w_bin)).astype('uint8')\n",
    "for val_label in obj_labels:\n",
    "    mask = cv2.bitwise_or( mask, ((labels==val_label).astype('uint8') * 255).reshape((h_bin, w_bin)) )\n",
    "mask = cv2.bitwise_and( mask, 255-mask_bin)\n",
    "plt.imshow(cv2.bitwise_and(image_bin,image_bin,mask=mask));"
   ]
  },
  {
   "cell_type": "code",
   "execution_count": null,
   "metadata": {
    "collapsed": false
   },
   "outputs": [],
   "source": [
    "obj_label = sort_index[0]\n",
    "d_other = [np.linalg.norm(bin_cc[obj_label,1:]-bin_cc[other,1:]) for other in sort_index]\n",
    "obj_labels = [sort_index[idx] for idx,val in enumerate(d_other) if val<20]\n",
    "obj_labels"
   ]
  },
  {
   "cell_type": "code",
   "execution_count": null,
   "metadata": {
    "collapsed": false
   },
   "outputs": [],
   "source": [
    "sort_index = np.array([x for x in sort_index if x not in obj_labels])\n",
    "sort_index"
   ]
  },
  {
   "cell_type": "code",
   "execution_count": null,
   "metadata": {
    "collapsed": false
   },
   "outputs": [],
   "source": [
    "mask = np.zeros((h_bin, w_bin)).astype('uint8')\n",
    "for val_label in obj_labels:\n",
    "    mask = cv2.bitwise_or( mask, ((labels==val_label).astype('uint8') * 255).reshape((h_bin, w_bin)) )\n",
    "mask = cv2.bitwise_and( mask, 255-mask_bin)\n",
    "plt.imshow(cv2.bitwise_and(image_bin,image_bin,mask=mask));"
   ]
  },
  {
   "cell_type": "code",
   "execution_count": null,
   "metadata": {
    "collapsed": false
   },
   "outputs": [],
   "source": [
    "obj_label = sort_index[0]\n",
    "d_other = [np.linalg.norm(bin_cc[obj_label,1:]-bin_cc[other,1:]) for other in sort_index]\n",
    "obj_labels = [sort_index[idx] for idx,val in enumerate(d_other) if val<20]\n",
    "obj_labels"
   ]
  },
  {
   "cell_type": "code",
   "execution_count": null,
   "metadata": {
    "collapsed": false
   },
   "outputs": [],
   "source": [
    "sort_index = np.array([x for x in sort_index if x not in obj_labels])\n",
    "sort_index"
   ]
  },
  {
   "cell_type": "code",
   "execution_count": null,
   "metadata": {
    "collapsed": false
   },
   "outputs": [],
   "source": [
    "mask = np.zeros((h_bin, w_bin)).astype('uint8')\n",
    "for val_label in obj_labels:\n",
    "    mask = cv2.bitwise_or( mask, ((labels==val_label).astype('uint8') * 255).reshape((h_bin, w_bin)) )\n",
    "mask = cv2.bitwise_and( mask, 255-mask_bin)\n",
    "plt.imshow(cv2.bitwise_and(image_bin,image_bin,mask=mask));"
   ]
  },
  {
   "cell_type": "code",
   "execution_count": null,
   "metadata": {
    "collapsed": false
   },
   "outputs": [],
   "source": [
    "obj_label = sort_index[0]\n",
    "d_other = [np.linalg.norm(bin_cc[obj_label,1:]-bin_cc[other,1:]) for other in sort_index]\n",
    "obj_labels = [sort_index[idx] for idx,val in enumerate(d_other) if val<20]\n",
    "obj_labels"
   ]
  },
  {
   "cell_type": "code",
   "execution_count": null,
   "metadata": {
    "collapsed": false
   },
   "outputs": [],
   "source": [
    "sort_index = np.array([x for x in sort_index if x not in obj_labels])\n",
    "sort_index"
   ]
  },
  {
   "cell_type": "code",
   "execution_count": null,
   "metadata": {
    "collapsed": false
   },
   "outputs": [],
   "source": [
    "mask = np.zeros((h_bin, w_bin)).astype('uint8')\n",
    "for val_label in obj_labels:\n",
    "    mask = cv2.bitwise_or( mask, ((labels==val_label).astype('uint8') * 255).reshape((h_bin, w_bin)) )\n",
    "mask = cv2.bitwise_and( mask, 255-mask_bin)\n",
    "plt.imshow(cv2.bitwise_and(image_bin,image_bin,mask=mask));"
   ]
  },
  {
   "cell_type": "code",
   "execution_count": null,
   "metadata": {
    "collapsed": false
   },
   "outputs": [],
   "source": [
    "obj_label = sort_index[0]\n",
    "d_other = [np.linalg.norm(bin_cc[obj_label,1:]-bin_cc[other,1:]) for other in sort_index]\n",
    "obj_labels = [sort_index[idx] for idx,val in enumerate(d_other) if val<20]\n",
    "obj_labels"
   ]
  },
  {
   "cell_type": "code",
   "execution_count": null,
   "metadata": {
    "collapsed": false
   },
   "outputs": [],
   "source": [
    "sort_index = np.array([x for x in sort_index if x not in obj_labels])\n",
    "sort_index"
   ]
  },
  {
   "cell_type": "code",
   "execution_count": null,
   "metadata": {
    "collapsed": false
   },
   "outputs": [],
   "source": [
    "mask = np.zeros((h_bin, w_bin)).astype('uint8')\n",
    "for val_label in obj_labels:\n",
    "    mask = cv2.bitwise_or( mask, ((labels==val_label).astype('uint8') * 255).reshape((h_bin, w_bin)) )\n",
    "mask = cv2.bitwise_and( mask, 255-mask_bin)\n",
    "plt.imshow(cv2.bitwise_and(image_bin,image_bin,mask=mask));"
   ]
  },
  {
   "cell_type": "code",
   "execution_count": null,
   "metadata": {
    "collapsed": false
   },
   "outputs": [],
   "source": [
    "obj_label = sort_index[0]\n",
    "d_other = [np.linalg.norm(bin_cc[obj_label,1:]-bin_cc[other,1:]) for other in sort_index]\n",
    "obj_labels = [sort_index[idx] for idx,val in enumerate(d_other) if val<20]\n",
    "obj_labels"
   ]
  },
  {
   "cell_type": "code",
   "execution_count": null,
   "metadata": {
    "collapsed": false
   },
   "outputs": [],
   "source": [
    "sort_index = np.array([x for x in sort_index if x not in obj_labels])\n",
    "sort_index"
   ]
  },
  {
   "cell_type": "code",
   "execution_count": null,
   "metadata": {
    "collapsed": false
   },
   "outputs": [],
   "source": [
    "mask = np.zeros((h_bin, w_bin)).astype('uint8')\n",
    "for val_label in obj_labels:\n",
    "    mask = cv2.bitwise_or( mask, ((labels==val_label).astype('uint8') * 255).reshape((h_bin, w_bin)) )\n",
    "mask = cv2.bitwise_and( mask, 255-mask_bin)\n",
    "plt.imshow(cv2.bitwise_and(image_bin,image_bin,mask=mask));"
   ]
  },
  {
   "cell_type": "code",
   "execution_count": null,
   "metadata": {
    "collapsed": true
   },
   "outputs": [],
   "source": [
    "# search the nearest dominant color of items"
   ]
  },
  {
   "cell_type": "code",
   "execution_count": null,
   "metadata": {
    "collapsed": false
   },
   "outputs": [],
   "source": [
    "recognised_items"
   ]
  },
  {
   "cell_type": "code",
   "execution_count": null,
   "metadata": {
    "collapsed": false
   },
   "outputs": [],
   "source": [
    "contents"
   ]
  },
  {
   "cell_type": "code",
   "execution_count": null,
   "metadata": {
    "collapsed": false
   },
   "outputs": [],
   "source": [
    "[contents.remove(it) for it in recognised_items]"
   ]
  },
  {
   "cell_type": "code",
   "execution_count": null,
   "metadata": {
    "collapsed": false
   },
   "outputs": [],
   "source": [
    "contents"
   ]
  },
  {
   "cell_type": "code",
   "execution_count": null,
   "metadata": {
    "collapsed": false
   },
   "outputs": [],
   "source": [
    "from utils import plot_colors, read_json\n",
    "\n",
    "item = 'table_cloth'\n",
    "#item = 'tissue_box'\n",
    "#item = 'toilet_brush'\n",
    "#item = 'glue_sticks'\n",
    "\n",
    "view = 'top_01'\n",
    "#view = 'top-side_01'\n",
    "#view = 'bottom_01'\n",
    "\n",
    "prefix = ITEM_FOLDER + '/' + item + '/' + item + '_' + view\n",
    "filename = prefix + '.png'\n",
    "image_RGB = imread_rgb(filename)\n",
    "if not image_RGB is None:\n",
    "    #with open(filename[:-4] + '_dc.json', 'r') as infile:\n",
    "    #    dc = json.load(infile)\n",
    "    dc = read_json(filename[:-4] + '_dc.json')\n",
    "    hist = dc['hist']\n",
    "    cc = dc['cluster_centers']\n",
    "    bar = plot_colors(hist, cc)\n",
    "    plt.subplot(121); plt.imshow(image_RGB); plt.axis('off');\n",
    "    plt.subplot(122); plt.imshow(bar); plt.axis('off');\n",
    "    obj_cc = cc"
   ]
  },
  {
   "cell_type": "code",
   "execution_count": null,
   "metadata": {
    "collapsed": false
   },
   "outputs": [],
   "source": [
    "d = []\n",
    "obj_col = obj_cc[0]\n",
    "for obj_col in obj_cc:\n",
    "    docc = []\n",
    "    for idx, bin_col in enumerate(bin_cc):\n",
    "        dist = np.linalg.norm(bin_col-np.array(obj_col))\n",
    "        docc.append((dist,idx))\n",
    "    d.append( sorted(docc)[:5] )\n",
    "d"
   ]
  },
  {
   "cell_type": "code",
   "execution_count": null,
   "metadata": {
    "collapsed": false
   },
   "outputs": [],
   "source": [
    "mask = np.zeros(labels.shape).astype('uint8')\n",
    "# values of first and second DC < 40\n",
    "for c in [2,15,17]:\n",
    "    mask_c = np.array([0,255])[(labels==c).astype('uint8')]\n",
    "    mask = cv2.bitwise_or(mask, mask_c.astype('uint8'))\n",
    "mask = mask.astype('uint8').reshape((h_bin, w_bin))\n",
    "mask = cv2.bitwise_and(mask,mask,mask=255-mask_bin)\n",
    "plt.imshow(mask,cmap='gray');"
   ]
  },
  {
   "cell_type": "code",
   "execution_count": null,
   "metadata": {
    "collapsed": false
   },
   "outputs": [],
   "source": [
    "%%time\n",
    "from sklearn.cluster import KMeans, MiniBatchKMeans\n",
    "\n",
    "n_cc = 32\n",
    "image = cv2.bitwise_and(image_bin, image_bin, mask=255-mask_bin)\n",
    "image = cv2.cvtColor(image, cv2.COLOR_RGB2LAB)\n",
    "(h_bin, w_bin) = image.shape[:2]\n",
    "image = image.reshape((image.shape[0] * image.shape[1], 3))\n",
    "## remove masked pixels!!!\n",
    "clt = MiniBatchKMeans(n_clusters = n_cc) # KMeans is more accurate than MiniBatchKMeans, but slower\n",
    "labels = clt.fit_predict(image)\n",
    "quant = clt.cluster_centers_.astype(\"uint8\")[labels]\n",
    "quant = quant.reshape((h_bin, w_bin, 3))\n",
    "quant = cv2.cvtColor(quant, cv2.COLOR_LAB2RGB)\n",
    "plt.subplot(121),plt.imshow(image_bin),plt.title('Original'),plt.axis('off');\n",
    "plt.subplot(122),plt.imshow(quant),plt.title('%d colors' % n_cc),plt.axis('off');\n",
    "bin_cc = clt.cluster_centers_"
   ]
  },
  {
   "cell_type": "code",
   "execution_count": null,
   "metadata": {
    "collapsed": true
   },
   "outputs": [],
   "source": [
    "d = []\n",
    "for bin_col in bin_cc:\n",
    "    dcol = []\n",
    "    for obj_col in obj_cc:\n",
    "        dist = np.linalg.norm(bin_col-np.array(obj_col))\n",
    "        dcol.append(dist)\n",
    "    d.append(dcol)\n",
    "best_col = []\n",
    "for dcol in d:\n",
    "    imin = np.argmin(dcol)\n",
    "    best_col.append((imin,dcol[imin]))\n",
    "best_col = np.array(best_col)\n"
   ]
  },
  {
   "cell_type": "code",
   "execution_count": null,
   "metadata": {
    "collapsed": false
   },
   "outputs": [],
   "source": [
    "import glob\n",
    "\n",
    "#\"Colgate_Toothbrush_4PK\",\"Epsom_Salts\",\"Duct_Tape\",\"Bath_Sponge\",\"Crayons\",\"Burts_Bees_Baby_Wipes\"\n",
    "#item = 'Bath_Sponge'\n",
    "#item = 'Duct_Tape'\n",
    "#item = 'Burts_Bees_Baby_Wipes'\n",
    "\n",
    "#item = 'glue_sticks'\n",
    "#item = 'expo_eraser'\n",
    "#item = 'laugh_out_loud_jokes'\n",
    "\n",
    "item = 'Tissue_Box'\n",
    "#item = 'table_cloth'\n",
    "#item = 'toilet_brush'\n",
    "\n",
    "view = 'Top_01'\n",
    "#view = 'Top-Side_01'\n",
    "#view = 'Bottom-Side_01'\n",
    "if item[0].islower():\n",
    "    item = item.title()\n",
    "\n",
    "files = glob.glob('Training items/' + item  + '/' + item + '_*.png')\n",
    "best_cnt = []\n",
    "for filename in files:    \n",
    "    image_BGR = cv2.imread(filename)\n",
    "    image_RGB = cv2.cvtColor(image_BGR, cv2.COLOR_BGR2RGB)\n",
    "    image_RGB = cv2.resize(image_RGB,(600,600))\n",
    "    #plt.subplot(121); plt.imshow(image_RGB); plt.axis('off');\n",
    "    with open(filename[:-4] + '_dc.json', 'r') as infile:\n",
    "        dc = json.load(infile)\n",
    "    hist = dc['hist']\n",
    "    cc = dc['cluster_centers']\n",
    "    #bar = plot_colors(hist, cc)\n",
    "    #plt.subplot(122); plt.imshow(bar); plt.axis('off'); plt.title(filename); plt.show();\n",
    "    obj_cc = cc\n",
    "    d = []\n",
    "    for bin_col in bin_cc:\n",
    "        dcol = []\n",
    "        for obj_col in obj_cc:\n",
    "            dist = np.linalg.norm(bin_col-np.array(obj_col))\n",
    "            dcol.append(dist)\n",
    "        d.append(dcol)\n",
    "    best_col = []\n",
    "    for dcol in d:\n",
    "        imin = np.argmin(dcol)\n",
    "        best_col.append((imin,dcol[imin]))\n",
    "    best_col = np.array(best_col)\n",
    "    n_obj_colors = np.where(np.cumsum(hist) >= 0.66)[0][0]\n",
    "    active_colors = np.zeros((n_cc,1),dtype=np.uint8)\n",
    "    for idx_bin_col, val_bin_col in enumerate(best_col):\n",
    "        if val_bin_col[0] < n_obj_colors and val_bin_col[1] < 30:\n",
    "            active_colors[idx_bin_col,0] = 255\n",
    "    mask = active_colors[labels]\n",
    "    mask = mask.reshape((h_bin, w_bin))\n",
    "    #plt.imshow(mask,cmap='gray'),plt.axis('off');plt.title(filename);plt.show();\n",
    "    (cnt,_) = cv2.findContours(mask,cv2.RETR_EXTERNAL,cv2.CHAIN_APPROX_SIMPLE)\n",
    "    for c in cnt:\n",
    "        ca = cv2.contourArea(c)\n",
    "        if ca>2000:\n",
    "            rotrect = cv2.minAreaRect(c)\n",
    "            ra = rotrect[1][0] * rotrect[1][1]\n",
    "            if ra>0:\n",
    "                ratio = ca/ra\n",
    "                if ratio > 0.5:\n",
    "                    best_cnt.append((ratio,ca,c,filename))\n",
    "                \n",
    "best_cnt = sorted(best_cnt, key=lambda x: x[0], reverse=True)\n",
    "if len(best_cnt):\n",
    "    image_cnt = image_bin.copy()\n",
    "    x,y,w,h = cv2.boundingRect(best_cnt[0][2])\n",
    "    cv2.rectangle(image_cnt,(x,y),(x+w,y+h),(0,255,0),2)\n",
    "    plt.imshow(image_cnt),plt.axis('off'),plt.title(best_cnt[0][3]);\n",
    "    print('Ratio: %.2f, Contour Area: %d' % (best_cnt[0][0],best_cnt[0][1]))\n",
    "else:\n",
    "    print('Not found')"
   ]
  },
  {
   "cell_type": "code",
   "execution_count": null,
   "metadata": {
    "collapsed": false
   },
   "outputs": [],
   "source": [
    "files"
   ]
  },
  {
   "cell_type": "code",
   "execution_count": null,
   "metadata": {
    "collapsed": false
   },
   "outputs": [],
   "source": [
    "#\"Colgate_Toothbrush_4PK\",\"Epsom_Salts\",\"Duct_Tape\",\"Bath_Sponge\",\"Crayons\",\"Burts_Bees_Baby_Wipes\"\n",
    "#item = 'Bath_Sponge'\n",
    "#item = 'Duct_Tape'\n",
    "#item = 'Burts_Bees_Baby_Wipes'\n",
    "\n",
    "#item = 'glue_sticks'\n",
    "item = 'expo_eraser'\n",
    "#item = 'laugh_out_loud_jokes'\n",
    "\n",
    "#item ='Tissue_Box'\n",
    "#item = 'table_cloth'\n",
    "#item = 'toilet_brush'\n",
    "\n",
    "#view = 'Top_01'\n",
    "#view = 'Top-Side_01'\n",
    "view = 'Bottom-Side_01'\n",
    "if item[0].islower():\n",
    "    item = item.title()\n",
    "filename = 'Training items/' + item  + '/' + item + '_' + view + '.png'\n",
    "image_BGR = cv2.imread(filename)\n",
    "image_RGB = cv2.cvtColor(image_BGR, cv2.COLOR_BGR2RGB)\n",
    "image_RGB = cv2.resize(image_RGB,(600,600))\n",
    "plt.subplot(121); plt.imshow(image_RGB); plt.axis('off');\n",
    "\n",
    "with open(filename[:-4] + '_dc.json', 'r') as infile:\n",
    "    dc = json.load(infile)\n",
    "hist = dc['hist']\n",
    "cc = dc['cluster_centers']\n",
    "\n",
    "bar = plot_colors(hist, cc)\n",
    "plt.subplot(122); plt.imshow(bar); plt.axis('off'); plt.title(item + '_' + view);\n",
    "obj_cc = cc"
   ]
  },
  {
   "cell_type": "code",
   "execution_count": null,
   "metadata": {
    "collapsed": true
   },
   "outputs": [],
   "source": [
    "d = []\n",
    "for bin_col in bin_cc:\n",
    "    dcol = []\n",
    "    for obj_col in obj_cc:\n",
    "        dist = np.linalg.norm(bin_col-np.array(obj_col))\n",
    "        dcol.append(dist)\n",
    "    d.append(dcol)\n",
    "\n",
    "best_col = []\n",
    "for dcol in d:\n",
    "    imin = np.argmin(dcol)\n",
    "    best_col.append((imin,dcol[imin]))\n",
    "best_col = np.array(best_col)"
   ]
  },
  {
   "cell_type": "code",
   "execution_count": null,
   "metadata": {
    "collapsed": false
   },
   "outputs": [],
   "source": [
    "n_obj_colors = np.where(np.cumsum(hist) >= 0.66)[0][0]\n",
    "#n_obj_colors = 2\n",
    "active_colors = np.zeros((n_cc,1),dtype=np.uint8)\n",
    "for idx_bin_col, val_bin_col in enumerate(best_col):\n",
    "    if val_bin_col[0] < n_obj_colors and val_bin_col[1] < 30:\n",
    "        active_colors[idx_bin_col,0] = 255\n",
    "mask = active_colors[labels]\n",
    "mask = mask.reshape((h_bin, w_bin))\n",
    "plt.imshow(mask,cmap='gray'),plt.axis('off');"
   ]
  },
  {
   "cell_type": "code",
   "execution_count": null,
   "metadata": {
    "collapsed": true
   },
   "outputs": [],
   "source": [
    "image_cnt = image_bin.copy()"
   ]
  },
  {
   "cell_type": "code",
   "execution_count": null,
   "metadata": {
    "collapsed": false
   },
   "outputs": [],
   "source": [
    "(cnt,_) = cv2.findContours(mask,cv2.RETR_EXTERNAL,cv2.CHAIN_APPROX_SIMPLE)\n",
    "best_cnt = []\n",
    "for c in cnt:\n",
    "    ca = cv2.contourArea(c)\n",
    "    if ca>2000:\n",
    "        rotrect = cv2.minAreaRect(c)\n",
    "        ra = rotrect[1][0] * rotrect[1][1]\n",
    "        if ra>0:\n",
    "            ratio = ca/ra\n",
    "            best_cnt.append((ratio,ca,c))\n",
    "best_cnt = sorted(best_cnt, key=lambda x: x[0], reverse=True)\n",
    "\n",
    "if len(best_cnt):\n",
    "    x,y,w,h = cv2.boundingRect(best_cnt[0][2])\n",
    "    cv2.rectangle(image_cnt,(x,y),(x+w,y+h),(0,255,0),2)\n",
    "    plt.imshow(image_cnt),plt.axis('off');\n",
    "else:\n",
    "    print('Not found')"
   ]
  },
  {
   "cell_type": "code",
   "execution_count": null,
   "metadata": {
    "collapsed": true
   },
   "outputs": [],
   "source": []
  }
 ],
 "metadata": {
  "kernelspec": {
   "display_name": "Python 2",
   "language": "python",
   "name": "python2"
  },
  "language_info": {
   "codemirror_mode": {
    "name": "ipython",
    "version": 2
   },
   "file_extension": ".py",
   "mimetype": "text/x-python",
   "name": "python",
   "nbconvert_exporter": "python",
   "pygments_lexer": "ipython2",
   "version": "2.7.6"
  }
 },
 "nbformat": 4,
 "nbformat_minor": 2
}
