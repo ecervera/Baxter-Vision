{
 "cells": [
  {
   "cell_type": "markdown",
   "metadata": {},
   "source": [
    "<a id=\"top\"></a>\n",
    "# Compute Items SIFT Features\n",
    "First:\n",
    "* [Load Parameters and Items](#load)\n",
    "\n",
    "Then choose one operation:\n",
    "* [Compute and Save](#compute)\n",
    "* [Statistics](#statistics)\n",
    "* [Plot Item Files](#plot)\n",
    "* [Computing Test](#test)"
   ]
  },
  {
   "cell_type": "markdown",
   "metadata": {},
   "source": [
    "## Load Parameters and Items<a id=\"load\"></a>"
   ]
  },
  {
   "cell_type": "code",
   "execution_count": null,
   "metadata": {
    "collapsed": false
   },
   "outputs": [],
   "source": [
    "import json\n",
    "from utils import load_items\n",
    "\n",
    "with open('parameters.json', 'r') as infile:\n",
    "    params = json.load(infile)\n",
    "\n",
    "RESIZE_X = params['resize']['x']\n",
    "RESIZE_Y = params['resize']['y']\n",
    "ITEM_FOLDER = params['item_folder']\n",
    "\n",
    "items = load_items(ITEM_FOLDER)"
   ]
  },
  {
   "cell_type": "markdown",
   "metadata": {},
   "source": [
    "## Compute and Save<a id=\"compute\"></a>\n",
    "\n",
    "Issues:\n",
    "* too many features (e.g. composition_book)\n",
    "* too few features (e.g. avery_binder)"
   ]
  },
  {
   "cell_type": "code",
   "execution_count": null,
   "metadata": {
    "collapsed": true
   },
   "outputs": [],
   "source": [
    "import cv2, glob\n",
    "from utils import compute_sift, imread_rgb, imread_gray, pack_keypoint, write_features_to_file\n",
    "\n",
    "def worker(item):\n",
    "    folder = ITEM_FOLDER + '/' + item + '/'\n",
    "    files = glob.glob(folder + '*.png')\n",
    "    for filename in files:\n",
    "        image_RGB = imread_rgb(filename)\n",
    "        if not image_RGB is None:\n",
    "            image_RGB = cv2.resize(image_RGB,(RESIZE_X,RESIZE_Y))\n",
    "            file_mask = filename[:-4] + '_mask.pgm'\n",
    "            mask = imread_gray(file_mask)\n",
    "            (kp, des) = compute_sift(image_RGB, mask)\n",
    "            kp, des = pack_keypoint(kp, des) \n",
    "            write_features_to_file(filename[:-4] + '_sift.npy', kp, des)"
   ]
  },
  {
   "cell_type": "code",
   "execution_count": null,
   "metadata": {
    "collapsed": false
   },
   "outputs": [],
   "source": [
    "%%time\n",
    "from multiprocessing import Pool\n",
    "\n",
    "print('Computing SIFTs of images resized to %d x %d' % (RESIZE_X,RESIZE_Y))\n",
    "pool_size = 6\n",
    "pool = Pool(pool_size)\n",
    "result = []\n",
    "for item in items:\n",
    "    result.append( pool.apply_async(worker, (item,)) )\n",
    "pool.close()\n",
    "pool.join()\n",
    "for r in result:\n",
    "     r.get()"
   ]
  },
  {
   "cell_type": "markdown",
   "metadata": {},
   "source": [
    "## Statistics<a id=\"statistics\"></a>"
   ]
  },
  {
   "cell_type": "code",
   "execution_count": null,
   "metadata": {
    "collapsed": false
   },
   "outputs": [],
   "source": [
    "import glob\n",
    "from utils import read_features_from_file, unpack_keypoint\n",
    "\n",
    "item_view = []\n",
    "num_sift = []\n",
    "for item in items:\n",
    "    folder = ITEM_FOLDER + '/' + item + '/'\n",
    "    files = glob.glob(folder + '*_sift.npy')\n",
    "    for filename in files:\n",
    "        kp, des = read_features_from_file(filename)\n",
    "        kp, des = unpack_keypoint(kp, des)\n",
    "        item_view.append(filename)\n",
    "        num_sift.append(len(des))"
   ]
  },
  {
   "cell_type": "code",
   "execution_count": null,
   "metadata": {
    "collapsed": false
   },
   "outputs": [],
   "source": [
    "from matplotlib import pyplot as plt\n",
    "%matplotlib inline\n",
    "plt.hist(num_sift,bins=60);"
   ]
  },
  {
   "cell_type": "code",
   "execution_count": null,
   "metadata": {
    "collapsed": false
   },
   "outputs": [],
   "source": [
    "[(ns, str(iv.split('/')[-1][:-9])) for ns, iv in sorted(zip(num_sift,item_view), reverse=True) if ns>2000]"
   ]
  },
  {
   "cell_type": "code",
   "execution_count": null,
   "metadata": {
    "collapsed": false
   },
   "outputs": [],
   "source": [
    "[(ns, str(iv.split('/')[-1][:-9])) for ns, iv in sorted(zip(num_sift,item_view), reverse=True) if ns<50]"
   ]
  },
  {
   "cell_type": "markdown",
   "metadata": {},
   "source": [
    "## Plot File<a id=\"plot\"></a>"
   ]
  },
  {
   "cell_type": "code",
   "execution_count": null,
   "metadata": {
    "collapsed": true
   },
   "outputs": [],
   "source": [
    "from matplotlib import pyplot as plt\n",
    "%matplotlib inline"
   ]
  },
  {
   "cell_type": "code",
   "execution_count": null,
   "metadata": {
    "collapsed": true
   },
   "outputs": [],
   "source": [
    "import cv2\n",
    "from ipywidgets import interact\n",
    "from utils import imread_rgb, read_features_from_file, unpack_keypoint\n",
    "\n",
    "def load_and_plot(item,view):\n",
    "    try:\n",
    "        prefix = ITEM_FOLDER + '/' + item + '/' + item + '_' + view\n",
    "        filename = prefix + '_sift.npy'\n",
    "        kp, des = read_features_from_file(filename)\n",
    "        kp, des = unpack_keypoint(kp, des)\n",
    "        filename = prefix + '.png'\n",
    "        image_RGB = imread_rgb(filename)\n",
    "        image_RGB = cv2.resize(image_RGB,(RESIZE_X,RESIZE_Y))\n",
    "        kp_img = cv2.drawKeypoints(image_RGB,kp,color=(0,255,0))\n",
    "        print('%d features detected' % len(kp))\n",
    "        plt.imshow(kp_img); plt.axis('off');\n",
    "    except (IOError, OSError):\n",
    "        print('File not found')"
   ]
  },
  {
   "cell_type": "code",
   "execution_count": null,
   "metadata": {
    "collapsed": false
   },
   "outputs": [],
   "source": [
    "views = ['top_01','top-side_01','top-side_02','bottom_01','bottom-side_01','bottom-side_02']\n",
    "interact(load_and_plot,item=items,view=views);"
   ]
  },
  {
   "cell_type": "markdown",
   "metadata": {},
   "source": [
    "### Plot All Items"
   ]
  },
  {
   "cell_type": "code",
   "execution_count": null,
   "metadata": {
    "collapsed": false
   },
   "outputs": [],
   "source": [
    "for item in items:\n",
    "    for view in views:\n",
    "        print(item + '_' + view)\n",
    "        load_and_plot(item,view)\n",
    "        plt.show()"
   ]
  },
  {
   "cell_type": "markdown",
   "metadata": {
    "collapsed": true
   },
   "source": [
    "## Computing Test<a id=\"test\"></a>"
   ]
  },
  {
   "cell_type": "code",
   "execution_count": null,
   "metadata": {
    "collapsed": true
   },
   "outputs": [],
   "source": [
    "from matplotlib import pyplot as plt\n",
    "%matplotlib inline"
   ]
  },
  {
   "cell_type": "code",
   "execution_count": null,
   "metadata": {
    "collapsed": true
   },
   "outputs": [],
   "source": [
    "import cv2, numpy as np\n",
    "from ipywidgets import interact\n",
    "from utils import compute_sift, imread_rgb, imread_gray\n",
    "\n",
    "def compute_and_plot(item,view):\n",
    "    prefix = ITEM_FOLDER + '/' + item + '/' + item + '_' + view\n",
    "    filename = prefix + '.png'\n",
    "    image_RGB = imread_rgb(filename)\n",
    "    if not image_RGB is None:\n",
    "        image_RGB = cv2.resize(image_RGB,(RESIZE_X,RESIZE_Y))\n",
    "        filename = prefix + '_mask.pgm'\n",
    "        mask = imread_gray(filename)\n",
    "        (kp, des) = compute_sift(image_RGB, mask)\n",
    "        kp_img = cv2.drawKeypoints(image_RGB,kp,color=(0,255,0))\n",
    "        print('%d features detected' % len(kp))\n",
    "        plt.imshow(kp_img); plt.axis('off');"
   ]
  },
  {
   "cell_type": "code",
   "execution_count": null,
   "metadata": {
    "collapsed": false
   },
   "outputs": [],
   "source": [
    "views = ['top_01','top-side_01','top-side_02','bottom_01','bottom-side_01','bottom-side_02']\n",
    "interact(compute_and_plot,item=items,view=views);"
   ]
  },
  {
   "cell_type": "markdown",
   "metadata": {},
   "source": [
    "### Compute and Plot All Items"
   ]
  },
  {
   "cell_type": "code",
   "execution_count": null,
   "metadata": {
    "collapsed": false
   },
   "outputs": [],
   "source": [
    "for item in items:\n",
    "    for view in views:\n",
    "        print(item + '_' + view)\n",
    "        plot(item,view)\n",
    "        plt.show()"
   ]
  },
  {
   "cell_type": "markdown",
   "metadata": {
    "collapsed": true
   },
   "source": [
    "[Top](#top)"
   ]
  }
 ],
 "metadata": {
  "kernelspec": {
   "display_name": "Python 2",
   "language": "python",
   "name": "python2"
  },
  "language_info": {
   "codemirror_mode": {
    "name": "ipython",
    "version": 2
   },
   "file_extension": ".py",
   "mimetype": "text/x-python",
   "name": "python",
   "nbconvert_exporter": "python",
   "pygments_lexer": "ipython2",
   "version": "2.7.6"
  }
 },
 "nbformat": 4,
 "nbformat_minor": 2
}
