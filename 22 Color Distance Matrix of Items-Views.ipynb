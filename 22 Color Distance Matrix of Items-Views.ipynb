{
 "cells": [
  {
   "cell_type": "code",
   "execution_count": null,
   "metadata": {
    "collapsed": true
   },
   "outputs": [],
   "source": [
    "from utils_io import read_json, load_items\n",
    "\n",
    "params = read_json('parameters.json')\n",
    "RESIZE_X = params['resize']['x']\n",
    "RESIZE_Y = params['resize']['y']\n",
    "ITEM_FOLDER = params['item_folder']\n",
    "items = load_items(ITEM_FOLDER)\n",
    "\n",
    "hl = [] # histogram list"
   ]
  },
  {
   "cell_type": "code",
   "execution_count": null,
   "metadata": {
    "collapsed": true
   },
   "outputs": [],
   "source": [
    "views = ['top_01','top-side_01','top-side_02','bottom_01','bottom-side_01','bottom-side_02']\n",
    "for item in items:\n",
    "    for view in views:\n",
    "        try:\n",
    "            filename = ITEM_FOLDER + '/' + item + '/' + item + '_' + view + '_dc.json'\n",
    "            dc = read_json(filename)\n",
    "            hist = dc['hist']\n",
    "            obj_cc = dc['cluster_centers']\n",
    "            hl.append( (item, view, hist, obj_cc) )\n",
    "        except IOError:\n",
    "            pass"
   ]
  },
  {
   "cell_type": "code",
   "execution_count": null,
   "metadata": {
    "collapsed": true
   },
   "outputs": [],
   "source": [
    "import numpy as np\n",
    "\n",
    "ivdm = np.zeros( (len(hl),len(hl)) ) # Item/view distance matrix"
   ]
  },
  {
   "cell_type": "code",
   "execution_count": null,
   "metadata": {
    "collapsed": true
   },
   "outputs": [],
   "source": [
    "from utils_color import calc_EMD2\n",
    "\n",
    "for i, (it1, vi1, hi1, cc1) in enumerate(hl):\n",
    "    for j, (it2, vi2, hi2, cc2) in enumerate(hl):\n",
    "        if j>i:\n",
    "            ivdm[i][j] = calc_EMD2(hi1, cc1, hi2, cc2)\n",
    "            ivdm[j][i] = ivdm[i][j]"
   ]
  },
  {
   "cell_type": "code",
   "execution_count": null,
   "metadata": {
    "collapsed": true
   },
   "outputs": [],
   "source": [
    "from matplotlib import pyplot as plt\n",
    "%matplotlib inline"
   ]
  },
  {
   "cell_type": "code",
   "execution_count": null,
   "metadata": {
    "collapsed": false
   },
   "outputs": [],
   "source": [
    "plt.imshow(ivdm,cmap='jet');"
   ]
  },
  {
   "cell_type": "code",
   "execution_count": null,
   "metadata": {
    "collapsed": true
   },
   "outputs": [],
   "source": [
    "n = len(items)\n",
    "idm = np.ones( (n, n) ) * 1000 # item distance matrix"
   ]
  },
  {
   "cell_type": "code",
   "execution_count": null,
   "metadata": {
    "collapsed": true
   },
   "outputs": [],
   "source": [
    "n = len(hl)\n",
    "for i in range(n):\n",
    "    for j in range(i+1, n):\n",
    "        iti = items.index(hl[i][0])\n",
    "        itj = items.index(hl[j][0])\n",
    "        if ivdm[i][j] < idm[iti][itj]:\n",
    "            idm[iti][itj] = ivdm[i][j]\n",
    "            idm[itj][iti] = idm[iti][itj]"
   ]
  },
  {
   "cell_type": "code",
   "execution_count": null,
   "metadata": {
    "collapsed": false
   },
   "outputs": [],
   "source": [
    "plt.imshow(idm,cmap='jet');"
   ]
  },
  {
   "cell_type": "code",
   "execution_count": null,
   "metadata": {
    "collapsed": true
   },
   "outputs": [],
   "source": [
    "def plot_distance(item, d):\n",
    "    idx = items.index(item)\n",
    "    plt.plot(idm[idx],'b-'); plt.plot(idm[idx],'bo'); plt.title(items[idx]); plt.plot([0,40],[d,d],'r-'); plt.show();\n",
    "    for d, it in sorted([(dist, it) for it, dist in zip(items, idm[idx]) if dist < d]):\n",
    "        print('%f %s' % (d, it))"
   ]
  },
  {
   "cell_type": "code",
   "execution_count": null,
   "metadata": {
    "collapsed": false
   },
   "outputs": [],
   "source": [
    "from ipywidgets import interact\n",
    "interact(plot_distance, item=items, d=20);"
   ]
  },
  {
   "cell_type": "code",
   "execution_count": null,
   "metadata": {
    "collapsed": true
   },
   "outputs": [],
   "source": [
    "from sklearn.cluster import AffinityPropagation"
   ]
  },
  {
   "cell_type": "code",
   "execution_count": null,
   "metadata": {
    "collapsed": false
   },
   "outputs": [],
   "source": [
    "af = AffinityPropagation(affinity='precomputed', damping=0.5, verbose=True).fit(-idm)"
   ]
  },
  {
   "cell_type": "code",
   "execution_count": null,
   "metadata": {
    "collapsed": true
   },
   "outputs": [],
   "source": [
    "cluster_centers_indices = af.cluster_centers_indices_\n",
    "labels = af.labels_"
   ]
  },
  {
   "cell_type": "code",
   "execution_count": null,
   "metadata": {
    "collapsed": false
   },
   "outputs": [],
   "source": [
    "for idx, kls in enumerate(cluster_centers_indices):\n",
    "    print(items[kls])\n",
    "    for it in [it for it,lb in zip(items,labels) if lb==idx]:\n",
    "        if it != items[kls]:\n",
    "            print('    %s' % it)\n",
    "    print"
   ]
  },
  {
   "cell_type": "code",
   "execution_count": null,
   "metadata": {
    "collapsed": false
   },
   "outputs": [],
   "source": [
    "def print_cluster(item):\n",
    "    label = labels[items.index(item)]\n",
    "    cluster = [it for it,lb in zip(items,labels) if lb==label]\n",
    "    for item in cluster:\n",
    "        print(item)\n",
    "        \n",
    "interact(print_cluster, item=[items[i] for i in cluster_centers_indices]);"
   ]
  },
  {
   "cell_type": "code",
   "execution_count": null,
   "metadata": {
    "collapsed": true
   },
   "outputs": [],
   "source": [
    "from utils_io import imread_rgb\n",
    "import cv2\n",
    "def show_cluster(item, view):\n",
    "    label = labels[items.index(item)]\n",
    "    cluster = [it for it,lb in zip(items,labels) if lb==label]\n",
    "    pos = 1\n",
    "    for item in cluster:\n",
    "        filename = ITEM_FOLDER + '/' + item + '/' + item + '_' + view + '.png'\n",
    "        image = imread_rgb(filename)\n",
    "        image = cv2.resize(image,(RESIZE_X,RESIZE_Y))\n",
    "        plt.subplot(130+pos); plt.imshow(image); plt.axis('off');\n",
    "        pos += 1\n",
    "        if pos==4:\n",
    "            plt.show();\n",
    "            pos = 1"
   ]
  },
  {
   "cell_type": "code",
   "execution_count": null,
   "metadata": {
    "collapsed": false
   },
   "outputs": [],
   "source": [
    "from ipywidgets import interact\n",
    "interact(show_cluster, item=[items[i] for i in cluster_centers_indices], view=views);"
   ]
  },
  {
   "cell_type": "code",
   "execution_count": null,
   "metadata": {
    "collapsed": true
   },
   "outputs": [],
   "source": []
  }
 ],
 "metadata": {
  "kernelspec": {
   "display_name": "Python 2",
   "language": "python",
   "name": "python2"
  },
  "language_info": {
   "codemirror_mode": {
    "name": "ipython",
    "version": 2
   },
   "file_extension": ".py",
   "mimetype": "text/x-python",
   "name": "python",
   "nbconvert_exporter": "python",
   "pygments_lexer": "ipython2",
   "version": "2.7.6"
  },
  "widgets": {
   "state": {
    "d30894825deb45eab40078b3e31d3dda": {
     "views": [
      {
       "cell_index": 10
      }
     ]
    },
    "d8d0987c92c148d2801277c594c71938": {
     "views": [
      {
       "cell_index": 18
      }
     ]
    },
    "dfe3e5bc31e84399b3a6efcb485a9a66": {
     "views": [
      {
       "cell_index": 16
      }
     ]
    }
   },
   "version": "1.2.0"
  }
 },
 "nbformat": 4,
 "nbformat_minor": 2
}
