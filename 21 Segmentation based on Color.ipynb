{
 "cells": [
  {
   "cell_type": "code",
   "execution_count": null,
   "metadata": {
    "collapsed": true
   },
   "outputs": [],
   "source": [
    "import cv2, numpy as np\n",
    "from matplotlib import pyplot as plt\n",
    "%matplotlib inline"
   ]
  },
  {
   "cell_type": "markdown",
   "metadata": {},
   "source": [
    "## Load Parameters"
   ]
  },
  {
   "cell_type": "code",
   "execution_count": null,
   "metadata": {
    "collapsed": true
   },
   "outputs": [],
   "source": [
    "from utils_io import read_json\n",
    "\n",
    "params = read_json('parameters.json')\n",
    "\n",
    "RESIZE_X = params['resize']['x']\n",
    "RESIZE_Y = params['resize']['y']\n",
    "ITEM_FOLDER = params['item_folder']"
   ]
  },
  {
   "cell_type": "markdown",
   "metadata": {},
   "source": [
    "## Input Data\n",
    "* Image of the bin\n",
    "* Mask of recognised items\n",
    "* List of recognised items"
   ]
  },
  {
   "cell_type": "code",
   "execution_count": null,
   "metadata": {
    "collapsed": true
   },
   "outputs": [],
   "source": [
    "bin_stamp = '170405145336'\n",
    "contents = [\"Colgate_Toothbrush_4PK\",\"Epsom_Salts\",\"Duct_Tape\",\n",
    "            \"Bath_Sponge\",\"Crayons\",\"Burts_Bees_Baby_Wipes\"]"
   ]
  },
  {
   "cell_type": "code",
   "execution_count": null,
   "metadata": {
    "collapsed": true
   },
   "outputs": [],
   "source": [
    "bin_stamp = '170405145538'\n",
    "contents = [\"glue_sticks\",\"tissue_box\",\"laugh_out_loud_jokes\",\n",
    "            \"toilet_brush\",\"expo_eraser\",\"table_cloth\"]"
   ]
  },
  {
   "cell_type": "code",
   "execution_count": null,
   "metadata": {
    "collapsed": true
   },
   "outputs": [],
   "source": [
    "bin_stamp = '170508103814'\n",
    "contents = [\"mouse_traps\",\"composition_book\",\"tennis_ball_container\",\n",
    "            \"tissue_box\"]"
   ]
  },
  {
   "cell_type": "code",
   "execution_count": null,
   "metadata": {
    "collapsed": true
   },
   "outputs": [],
   "source": [
    "contents = [s.lower() for s in contents]"
   ]
  },
  {
   "cell_type": "code",
   "execution_count": null,
   "metadata": {
    "collapsed": false
   },
   "outputs": [],
   "source": [
    "from utils_io import imread_rgb, imread_gray, read_json\n",
    "\n",
    "image_bin = imread_rgb('bin/' + bin_stamp + '.png')\n",
    "image_mask = imread_gray('bin/' + bin_stamp + '_item_mask.pgm')\n",
    "plt.imshow(image_bin); plt.axis('off');\n",
    "data = read_json('bin/' + bin_stamp + '_items.json')\n",
    "recognised_items = [name for name, proj in data]\n",
    "items = [item for item in contents if not item in recognised_items]\n",
    "items"
   ]
  },
  {
   "cell_type": "code",
   "execution_count": null,
   "metadata": {
    "collapsed": false
   },
   "outputs": [],
   "source": [
    "from utils_color import cluster_colors\n",
    "\n",
    "positions, weights = cluster_colors(image_bin, image_mask, items, n_cc=20)"
   ]
  },
  {
   "cell_type": "code",
   "execution_count": null,
   "metadata": {
    "collapsed": false
   },
   "outputs": [],
   "source": [
    "weights"
   ]
  },
  {
   "cell_type": "code",
   "execution_count": null,
   "metadata": {
    "collapsed": true
   },
   "outputs": [],
   "source": [
    "pos_ok = [(p,w[0][1]) for p,w in zip(positions, weights) if len(w)==1]\n",
    "pos_unkw = [(p,w) for p,w in zip(positions, weights) if len(w)>1]"
   ]
  },
  {
   "cell_type": "code",
   "execution_count": null,
   "metadata": {
    "collapsed": false
   },
   "outputs": [],
   "source": [
    "it_col = {'table_cloth':(255,0,255),'tissue_box':(0,255,255),'glue_sticks':(255,0,0),'toilet_brush':(255,255,0),\n",
    "          'burts_bees_baby_wipes':(255,0,255),'bath_sponge':(0,255,255),'duct_tape':(255,0,0),\n",
    "          'tennis_ball_container':(255,0,255)}\n",
    "#image_disp = image_bin.copy()\n",
    "image_disp = cv2.bitwise_and(image_bin, image_bin, mask=image_mask)\n",
    "\n",
    "#mask_disp  = 255 - image_mask\n",
    "contours = {}\n",
    "for item in items:\n",
    "    contours[item] = []\n",
    "    it_pos = [p for p,it in pos_ok if it==item]\n",
    "    for cnt in it_pos:\n",
    "        contours[item] += cnt\n",
    "        cv2.drawContours(image_disp,cnt,-1,it_col[item],2)\n",
    "        #cv2.drawContours(mask_disp,cnt,-1,(255,),-1)\n",
    "for pos,w in pos_unkw:\n",
    "    for cnt in pos:\n",
    "        cv2.drawContours(image_disp,cnt,-1,(0,0,0),1)\n",
    "        #cv2.drawContours(mask_disp,cnt,-1,(255,),-1)\n",
    "plt.imshow(image_disp); plt.axis('off');"
   ]
  },
  {
   "cell_type": "code",
   "execution_count": null,
   "metadata": {
    "collapsed": true
   },
   "outputs": [],
   "source": [
    "from utils_contour import contourClustering\n",
    "\n",
    "clusters = {}\n",
    "threshold = 30\n",
    "for item in items:\n",
    "    clusters[item] = contourClustering(contours[item], threshold)"
   ]
  },
  {
   "cell_type": "code",
   "execution_count": null,
   "metadata": {
    "collapsed": false
   },
   "outputs": [],
   "source": [
    "clusters"
   ]
  },
  {
   "cell_type": "code",
   "execution_count": null,
   "metadata": {
    "collapsed": false
   },
   "outputs": [],
   "source": [
    "recognised_items += [ item for item in clusters.keys() if clusters[item] ]\n",
    "recognised_items"
   ]
  },
  {
   "cell_type": "code",
   "execution_count": null,
   "metadata": {
    "collapsed": false
   },
   "outputs": [],
   "source": [
    "image_disp = image_bin.copy()\n",
    "#image_disp = cv2.bitwise_and(image_bin, image_bin, mask=image_mask)\n",
    "\n",
    "for item in items:\n",
    "    area = 0\n",
    "    for cl in clusters[item]:\n",
    "        cc = [c for idx, c in enumerate(contours[item]) if idx in cl]\n",
    "        # TODO: oriented rectangle\n",
    "        x,y,w,h = cv2.boundingRect(np.vstack(tuple(cc)))\n",
    "        if area < w*h:\n",
    "            area = w*h\n",
    "            bb = (x,y,w,h)\n",
    "    if area > 0:\n",
    "        x,y,w,h = bb\n",
    "        cv2.rectangle(image_disp, (x,y), (x+w,y+h), it_col[item],2)\n",
    "        cv2.rectangle(image_mask, (x,y), (x+w,y+h), 0, -1)\n",
    "plt.imshow(image_disp); plt.axis('off');"
   ]
  },
  {
   "cell_type": "code",
   "execution_count": null,
   "metadata": {
    "collapsed": false
   },
   "outputs": [],
   "source": [
    "kernel = np.ones((3,3),np.uint8)\n",
    "image_mask = cv2.erode(image_mask, kernel, iterations = 5)\n",
    "plt.imshow(image_mask,cmap='gray'); plt.axis('off');"
   ]
  },
  {
   "cell_type": "code",
   "execution_count": null,
   "metadata": {
    "collapsed": false
   },
   "outputs": [],
   "source": [
    "items = [item for item in contents if not item in recognised_items]\n",
    "items"
   ]
  },
  {
   "cell_type": "code",
   "execution_count": null,
   "metadata": {
    "collapsed": false,
    "scrolled": true
   },
   "outputs": [],
   "source": [
    "positions, weights = cluster_colors(image_bin, image_mask, items, n_cc=10)"
   ]
  },
  {
   "cell_type": "code",
   "execution_count": null,
   "metadata": {
    "collapsed": false
   },
   "outputs": [],
   "source": [
    "weights"
   ]
  },
  {
   "cell_type": "code",
   "execution_count": null,
   "metadata": {
    "collapsed": true
   },
   "outputs": [],
   "source": [
    "pos_ok = [(p,w[0][1]) for p,w in zip(positions, weights) if len(w)==1]\n",
    "pos_unkw = [(p,w) for p,w in zip(positions, weights) if len(w)>1]"
   ]
  },
  {
   "cell_type": "code",
   "execution_count": null,
   "metadata": {
    "collapsed": false,
    "scrolled": true
   },
   "outputs": [],
   "source": [
    "it_col = {'table_cloth':(255,0,255),'tissue_box':(0,255,255),'glue_sticks':(255,0,0),'toilet_brush':(255,255,0),\n",
    "          'burts_bees_baby_wipes':(255,0,255),'bath_sponge':(0,255,255),'duct_tape':(255,0,0)}\n",
    "#image_disp = image_bin.copy()\n",
    "image_disp = cv2.bitwise_and(image_bin, image_bin, mask=image_mask)\n",
    "\n",
    "#mask_disp  = 255 - image_mask\n",
    "contours = {}\n",
    "for item in items:\n",
    "    contours[item] = []\n",
    "    it_pos = [p for p,it in pos_ok if it==item]\n",
    "    for cnt in it_pos:\n",
    "        contours[item] += cnt\n",
    "        cv2.drawContours(image_disp,cnt,-1,it_col[item],2)\n",
    "        #cv2.drawContours(mask_disp,cnt,-1,(255,),-1)\n",
    "for pos,w in pos_unkw:\n",
    "    for cnt in pos:\n",
    "        cv2.drawContours(image_disp,cnt,-1,(0,0,0),1)\n",
    "        #cv2.drawContours(mask_disp,cnt,-1,(255,),-1)\n",
    "plt.imshow(image_disp); plt.axis('off');"
   ]
  },
  {
   "cell_type": "code",
   "execution_count": null,
   "metadata": {
    "collapsed": true
   },
   "outputs": [],
   "source": [
    "clusters = {}\n",
    "threshold = 30\n",
    "for item in items:\n",
    "    clusters[item] = contourClustering(contours[item], threshold)"
   ]
  },
  {
   "cell_type": "code",
   "execution_count": null,
   "metadata": {
    "collapsed": false
   },
   "outputs": [],
   "source": [
    "clusters"
   ]
  },
  {
   "cell_type": "code",
   "execution_count": null,
   "metadata": {
    "collapsed": false
   },
   "outputs": [],
   "source": [
    "recognised_items += [ item for item in clusters.keys() if clusters[item] ]\n",
    "recognised_items"
   ]
  },
  {
   "cell_type": "code",
   "execution_count": null,
   "metadata": {
    "collapsed": false
   },
   "outputs": [],
   "source": [
    "image_disp = image_bin.copy()\n",
    "for item in items:\n",
    "    area = 0\n",
    "    for cl in clusters[item]:\n",
    "        cc = [c for idx, c in enumerate(contours[item]) if idx in cl]\n",
    "        # TODO: oriented rectangle\n",
    "        x,y,w,h = cv2.boundingRect(np.vstack(tuple(cc)))\n",
    "        #cv2.rectangle(image_disp, (x,y), (x+w,y+h), it_col[item],2)\n",
    "        if area < w*h:\n",
    "            area = w*h\n",
    "            bb = (x,y,w,h)\n",
    "    if area > 0:\n",
    "        x,y,w,h = bb\n",
    "        cv2.rectangle(image_disp, (x,y), (x+w,y+h), it_col[item],2)\n",
    "        cv2.rectangle(image_mask, (x,y), (x+w,y+h), 0, -1)\n",
    "plt.imshow(image_disp); plt.axis('off');"
   ]
  },
  {
   "cell_type": "code",
   "execution_count": null,
   "metadata": {
    "collapsed": true
   },
   "outputs": [],
   "source": []
  }
 ],
 "metadata": {
  "kernelspec": {
   "display_name": "Python 2",
   "language": "python",
   "name": "python2"
  },
  "language_info": {
   "codemirror_mode": {
    "name": "ipython",
    "version": 2
   },
   "file_extension": ".py",
   "mimetype": "text/x-python",
   "name": "python",
   "nbconvert_exporter": "python",
   "pygments_lexer": "ipython2",
   "version": "2.7.6"
  }
 },
 "nbformat": 4,
 "nbformat_minor": 2
}
