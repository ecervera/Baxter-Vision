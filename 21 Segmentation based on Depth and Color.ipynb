{
 "cells": [
  {
   "cell_type": "code",
   "execution_count": null,
   "metadata": {
    "collapsed": true
   },
   "outputs": [],
   "source": [
    "import cv2, numpy as np\n",
    "from matplotlib import pyplot as plt\n",
    "%matplotlib inline"
   ]
  },
  {
   "cell_type": "markdown",
   "metadata": {},
   "source": [
    "## Load Parameters"
   ]
  },
  {
   "cell_type": "code",
   "execution_count": null,
   "metadata": {
    "collapsed": true
   },
   "outputs": [],
   "source": [
    "from utils import read_json\n",
    "\n",
    "params = read_json('parameters.json')\n",
    "\n",
    "RESIZE_X = params['resize']['x']\n",
    "RESIZE_Y = params['resize']['y']\n",
    "ITEM_FOLDER = params['item_folder']"
   ]
  },
  {
   "cell_type": "markdown",
   "metadata": {},
   "source": [
    "## Input Data\n",
    "* Image of the bin\n",
    "* Mask of recognised items\n",
    "* List of recognised items"
   ]
  },
  {
   "cell_type": "code",
   "execution_count": null,
   "metadata": {
    "collapsed": true
   },
   "outputs": [],
   "source": [
    "bin_stamp = '170405145336'\n",
    "contents = [\"Colgate_Toothbrush_4PK\",\"Epsom_Salts\",\"Duct_Tape\",\n",
    "            \"Bath_Sponge\",\"Crayons\",\"Burts_Bees_Baby_Wipes\"]"
   ]
  },
  {
   "cell_type": "code",
   "execution_count": null,
   "metadata": {
    "collapsed": true
   },
   "outputs": [],
   "source": [
    "bin_stamp = '170405145538'\n",
    "contents = [\"glue_sticks\",\"tissue_box\",\"laugh_out_loud_jokes\",\n",
    "            \"toilet_brush\",\"expo_eraser\",\"table_cloth\"]"
   ]
  },
  {
   "cell_type": "code",
   "execution_count": null,
   "metadata": {
    "collapsed": true
   },
   "outputs": [],
   "source": [
    "contents = [s.lower() for s in contents]"
   ]
  },
  {
   "cell_type": "code",
   "execution_count": null,
   "metadata": {
    "collapsed": false
   },
   "outputs": [],
   "source": [
    "from utils_io import imread_rgb, imread_gray, read_json\n",
    "\n",
    "image_bin = imread_rgb('bin/' + bin_stamp + '.png')\n",
    "image_mask = imread_gray('bin/' + bin_stamp + '_item_mask.pgm')\n",
    "image_bin = cv2.bitwise_and(image_bin, image_bin, mask=image_mask)\n",
    "plt.imshow(image_bin); plt.axis('off');\n",
    "data = read_json('bin/' + bin_stamp + '_items.json')\n",
    "recognised_items = [name for name, proj in data]\n",
    "items = [item for item in contents if not item in recognised_items]\n",
    "items"
   ]
  },
  {
   "cell_type": "code",
   "execution_count": null,
   "metadata": {
    "collapsed": true
   },
   "outputs": [],
   "source": []
  }
 ],
 "metadata": {
  "kernelspec": {
   "display_name": "Python 2",
   "language": "python",
   "name": "python2"
  },
  "language_info": {
   "codemirror_mode": {
    "name": "ipython",
    "version": 2
   },
   "file_extension": ".py",
   "mimetype": "text/x-python",
   "name": "python",
   "nbconvert_exporter": "python",
   "pygments_lexer": "ipython2",
   "version": "2.7.6"
  }
 },
 "nbformat": 4,
 "nbformat_minor": 2
}
