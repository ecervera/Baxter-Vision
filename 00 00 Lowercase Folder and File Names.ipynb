{
 "cells": [
  {
   "cell_type": "code",
   "execution_count": null,
   "metadata": {
    "collapsed": false
   },
   "outputs": [],
   "source": [
    "import glob\n",
    "import os.path\n",
    "\n",
    "item_folder = 'Training items'\n",
    "os.chdir(item_folder)\n",
    "items = glob.glob('*')\n",
    "\n",
    "for item in items:\n",
    "    os.chdir(item)\n",
    "    files = glob.glob('*')\n",
    "    for filename in files:\n",
    "        os.rename(filename,filename.lower())\n",
    "    os.chdir('..')\n",
    "    os.rename(item,item.lower())\n",
    "os.chdir('..')\n",
    "print('Done!')"
   ]
  },
  {
   "cell_type": "code",
   "execution_count": null,
   "metadata": {
    "collapsed": true
   },
   "outputs": [],
   "source": []
  }
 ],
 "metadata": {
  "kernelspec": {
   "display_name": "Python 2",
   "language": "python",
   "name": "python2"
  },
  "language_info": {
   "codemirror_mode": {
    "name": "ipython",
    "version": 2
   },
   "file_extension": ".py",
   "mimetype": "text/x-python",
   "name": "python",
   "nbconvert_exporter": "python",
   "pygments_lexer": "ipython2",
   "version": "2.7.6"
  }
 },
 "nbformat": 4,
 "nbformat_minor": 2
}
