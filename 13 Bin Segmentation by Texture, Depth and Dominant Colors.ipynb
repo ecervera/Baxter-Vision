{
 "cells": [
  {
   "cell_type": "code",
   "execution_count": null,
   "metadata": {
    "collapsed": true
   },
   "outputs": [],
   "source": [
    "import cv2, numpy as np\n",
    "from matplotlib import pyplot as plt\n",
    "%matplotlib inline"
   ]
  },
  {
   "cell_type": "markdown",
   "metadata": {},
   "source": [
    "## Load Parameters"
   ]
  },
  {
   "cell_type": "code",
   "execution_count": null,
   "metadata": {
    "collapsed": true
   },
   "outputs": [],
   "source": [
    "from utils import read_json\n",
    "\n",
    "params = read_json('parameters.json')\n",
    "\n",
    "RESIZE_X = params['resize']['x']\n",
    "RESIZE_Y = params['resize']['y']\n",
    "ITEM_FOLDER = params['item_folder']"
   ]
  },
  {
   "cell_type": "markdown",
   "metadata": {},
   "source": [
    "## Input Data\n",
    "* Image of the bin\n",
    "* List of items in the bin"
   ]
  },
  {
   "cell_type": "code",
   "execution_count": null,
   "metadata": {
    "collapsed": true
   },
   "outputs": [],
   "source": [
    "bin_stamp = '170405145336'\n",
    "contents = [\"Colgate_Toothbrush_4PK\",\"Epsom_Salts\",\"Duct_Tape\",\n",
    "            \"Bath_Sponge\",\"Crayons\",\"Burts_Bees_Baby_Wipes\"]"
   ]
  },
  {
   "cell_type": "code",
   "execution_count": null,
   "metadata": {
    "collapsed": true
   },
   "outputs": [],
   "source": [
    "bin_stamp = '170405145538'\n",
    "contents = [\"glue_sticks\",\"tissue_box\",\"laugh_out_loud_jokes\",\n",
    "            \"toilet_brush\",\"expo_eraser\",\"table_cloth\"]"
   ]
  },
  {
   "cell_type": "code",
   "execution_count": null,
   "metadata": {
    "collapsed": true
   },
   "outputs": [],
   "source": [
    "contents = [s.lower() for s in contents]"
   ]
  },
  {
   "cell_type": "markdown",
   "metadata": {},
   "source": [
    "## Phase 1: Recognition by SIFT Features\n",
    "### Compute Features in Bin"
   ]
  },
  {
   "cell_type": "code",
   "execution_count": null,
   "metadata": {
    "collapsed": false
   },
   "outputs": [],
   "source": [
    "from utils import imread_rgb, compute_sift\n",
    "\n",
    "filename_bin = 'bin/' + bin_stamp + '.png'\n",
    "image_bin = imread_rgb(filename_bin)\n",
    "(kp_bin, des_bin) = compute_sift(image_bin)"
   ]
  },
  {
   "cell_type": "markdown",
   "metadata": {},
   "source": [
    "### Match Bin and Items Features"
   ]
  },
  {
   "cell_type": "code",
   "execution_count": null,
   "metadata": {
    "collapsed": false
   },
   "outputs": [],
   "source": [
    "from utils import match_items\n",
    "\n",
    "items = list(contents)\n",
    "item_d, recognised_items, mask_items = match_items(image_bin, kp_bin, des_bin, items)"
   ]
  },
  {
   "cell_type": "markdown",
   "metadata": {},
   "source": [
    "### Not recognised items"
   ]
  },
  {
   "cell_type": "code",
   "execution_count": null,
   "metadata": {
    "collapsed": false
   },
   "outputs": [],
   "source": [
    "items = [s for s in contents if s not in recognised_items]\n",
    "items"
   ]
  },
  {
   "cell_type": "code",
   "execution_count": null,
   "metadata": {
    "collapsed": false
   },
   "outputs": [],
   "source": [
    "kernel = np.ones((3,3),np.uint8)\n",
    "mask_items = 255 - cv2.dilate(mask_items,kernel,iterations = 5)\n",
    "plt.imshow(mask_items,cmap='gray'), plt.axis('off');"
   ]
  },
  {
   "cell_type": "markdown",
   "metadata": {},
   "source": [
    "## Phase 2: segment bin by depth from top to bottom"
   ]
  },
  {
   "cell_type": "code",
   "execution_count": null,
   "metadata": {
    "collapsed": false
   },
   "outputs": [],
   "source": [
    "from utils import imread_gray\n",
    "filename_bin = 'bin/' + bin_stamp + '.pgm'\n",
    "image_depth = imread_gray(filename_bin)\n",
    "plt.imshow(image_depth,cmap='gray'); plt.axis('off');"
   ]
  },
  {
   "cell_type": "code",
   "execution_count": null,
   "metadata": {
    "collapsed": false
   },
   "outputs": [],
   "source": [
    "from utils import fill_holes\n",
    "\n",
    "image_depth = fill_holes(image_depth)\n",
    "plt.imshow(image_depth,cmap='gray');\n",
    "(np.min(image_depth), np.max(image_depth))"
   ]
  },
  {
   "cell_type": "code",
   "execution_count": null,
   "metadata": {
    "collapsed": true
   },
   "outputs": [],
   "source": [
    "import glob\n",
    "import json\n",
    "dc_list = []\n",
    "for item in items:\n",
    "    folder = 'Training_items/' + item + '/'\n",
    "    files = glob.glob(folder + '*_dc.json')\n",
    "    for filename in files:\n",
    "        with open(filename) as data_file:\n",
    "            dominant_colors = json.load(data_file)\n",
    "        dc_list.append((filename,dominant_colors))"
   ]
  },
  {
   "cell_type": "code",
   "execution_count": null,
   "metadata": {
    "collapsed": false
   },
   "outputs": [],
   "source": [
    "from utils import compute_colors, calc_EMD2\n",
    "\n",
    "depth_int = 4\n",
    "\n",
    "min_depth = int(np.min(image_depth))\n",
    "max_depth = int(np.max(image_depth))\n",
    "min_emd = {}\n",
    "for thresh_depth in range(min_depth, max_depth, depth_int/2):\n",
    "    top_obj = cv2.inRange(image_depth, thresh_depth, thresh_depth+depth_int)\n",
    "    top_obj = cv2.bitwise_and(top_obj, top_obj, mask=mask_items)\n",
    "    image_top = cv2.bitwise_and(image_bin,image_bin,mask=top_obj)\n",
    "    plt.imshow(image_top); plt.axis('off'); plt.title(str(thresh_depth)); plt.show();\n",
    "    (cnt,_) = cv2.findContours(top_obj,cv2.RETR_EXTERNAL,cv2.CHAIN_APPROX_SIMPLE)\n",
    "    for c in cnt:\n",
    "        a = cv2.contourArea(c)\n",
    "        if a > 1000 and a < 40000:\n",
    "            item_mask = np.zeros(top_obj.shape,dtype='uint8')\n",
    "            cv2.drawContours(item_mask,[c],-1,(255,),-1)\n",
    "            #image_top = cv2.bitwise_and(image_bin,image_bin,mask=item_mask)\n",
    "            h_obj, cc_obj = compute_colors(image_bin, item_mask)\n",
    "            for name, dc in dc_list:\n",
    "                short_name = name[15:-8]\n",
    "                h_ref = dc['hist']\n",
    "                cc_ref = dc['cluster_centers']\n",
    "                emd = calc_EMD2(h_obj,cc_obj,h_ref,cc_ref)\n",
    "                try:\n",
    "                    if emd < min_emd[short_name][0]:\n",
    "                        min_emd[short_name] = (emd, c)\n",
    "                except KeyError:\n",
    "                    min_emd[short_name] = (emd, c)"
   ]
  },
  {
   "cell_type": "code",
   "execution_count": null,
   "metadata": {
    "collapsed": false
   },
   "outputs": [],
   "source": [
    "for name, cd in min_emd.iteritems():\n",
    "    if cd[0] < 100:\n",
    "        item_mask = np.zeros(top_obj.shape,dtype='uint8')\n",
    "        cv2.drawContours(item_mask,[cd[1]],-1,(255,),-1)\n",
    "        image_top = cv2.bitwise_and(image_bin,image_bin,mask=item_mask)\n",
    "        plt.imshow(image_top); plt.axis('off'); plt.title(name + ': ' + str(cd[0])); plt.show();"
   ]
  },
  {
   "cell_type": "code",
   "execution_count": null,
   "metadata": {
    "collapsed": true
   },
   "outputs": [],
   "source": []
  }
 ],
 "metadata": {
  "kernelspec": {
   "display_name": "Python 2",
   "language": "python",
   "name": "python2"
  },
  "language_info": {
   "codemirror_mode": {
    "name": "ipython",
    "version": 2
   },
   "file_extension": ".py",
   "mimetype": "text/x-python",
   "name": "python",
   "nbconvert_exporter": "python",
   "pygments_lexer": "ipython2",
   "version": "2.7.6"
  }
 },
 "nbformat": 4,
 "nbformat_minor": 2
}
