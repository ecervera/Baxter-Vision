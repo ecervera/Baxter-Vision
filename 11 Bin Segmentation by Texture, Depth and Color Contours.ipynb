{
 "cells": [
  {
   "cell_type": "code",
   "execution_count": null,
   "metadata": {
    "collapsed": true
   },
   "outputs": [],
   "source": [
    "import cv2, numpy as np\n",
    "from matplotlib import pyplot as plt\n",
    "%matplotlib inline"
   ]
  },
  {
   "cell_type": "markdown",
   "metadata": {},
   "source": [
    "## Load Parameters"
   ]
  },
  {
   "cell_type": "code",
   "execution_count": null,
   "metadata": {
    "collapsed": true
   },
   "outputs": [],
   "source": [
    "from utils import read_json\n",
    "\n",
    "params = read_json('parameters.json')\n",
    "\n",
    "RESIZE_X = params['resize']['x']\n",
    "RESIZE_Y = params['resize']['y']\n",
    "ITEM_FOLDER = params['item_folder']"
   ]
  },
  {
   "cell_type": "markdown",
   "metadata": {},
   "source": [
    "## Input Data\n",
    "* Image of the bin\n",
    "* List of items in the bin"
   ]
  },
  {
   "cell_type": "code",
   "execution_count": null,
   "metadata": {
    "collapsed": true
   },
   "outputs": [],
   "source": [
    "bin_stamp = '170405145336'\n",
    "contents = [\"Colgate_Toothbrush_4PK\",\"Epsom_Salts\",\"Duct_Tape\",\n",
    "            \"Bath_Sponge\",\"Crayons\",\"Burts_Bees_Baby_Wipes\"]"
   ]
  },
  {
   "cell_type": "code",
   "execution_count": null,
   "metadata": {
    "collapsed": true
   },
   "outputs": [],
   "source": [
    "bin_stamp = '170405145538'\n",
    "contents = [\"glue_sticks\",\"tissue_box\",\"laugh_out_loud_jokes\",\n",
    "            \"toilet_brush\",\"expo_eraser\",\"table_cloth\"]"
   ]
  },
  {
   "cell_type": "code",
   "execution_count": null,
   "metadata": {
    "collapsed": true
   },
   "outputs": [],
   "source": [
    "contents = [s.lower() for s in contents]"
   ]
  },
  {
   "cell_type": "markdown",
   "metadata": {},
   "source": [
    "## Phase 1: Recognition by SIFT Features\n",
    "### Compute Features in Bin"
   ]
  },
  {
   "cell_type": "code",
   "execution_count": null,
   "metadata": {
    "collapsed": false
   },
   "outputs": [],
   "source": [
    "from utils import imread_rgb, compute_sift\n",
    "\n",
    "filename_bin = 'bin/' + bin_stamp + '.png'\n",
    "image_bin = imread_rgb(filename_bin)\n",
    "(kp_bin, des_bin) = compute_sift(image_bin)"
   ]
  },
  {
   "cell_type": "markdown",
   "metadata": {},
   "source": [
    "### Match Bin and Items Features"
   ]
  },
  {
   "cell_type": "code",
   "execution_count": null,
   "metadata": {
    "collapsed": false
   },
   "outputs": [],
   "source": [
    "from utils import match_items\n",
    "\n",
    "items = list(contents)\n",
    "item_d, recognised_items, mask_items = match_items(image_bin, kp_bin, des_bin, items)"
   ]
  },
  {
   "cell_type": "markdown",
   "metadata": {},
   "source": [
    "### Not recognised items"
   ]
  },
  {
   "cell_type": "code",
   "execution_count": null,
   "metadata": {
    "collapsed": false
   },
   "outputs": [],
   "source": [
    "items = [s for s in contents if s not in recognised_items]\n",
    "items"
   ]
  },
  {
   "cell_type": "code",
   "execution_count": null,
   "metadata": {
    "collapsed": false
   },
   "outputs": [],
   "source": [
    "kernel = np.ones((3,3),np.uint8)\n",
    "mask_items = cv2.dilate(mask_items,kernel,iterations = 5)\n",
    "plt.imshow(mask_items,cmap='gray'), plt.axis('off');"
   ]
  },
  {
   "cell_type": "markdown",
   "metadata": {},
   "source": [
    "## Phase 2: segment bin by depth into upper / lower levels"
   ]
  },
  {
   "cell_type": "code",
   "execution_count": null,
   "metadata": {
    "collapsed": false
   },
   "outputs": [],
   "source": [
    "from utils import imread_gray\n",
    "filename_bin = 'bin/' + bin_stamp + '.pgm'\n",
    "image_depth = imread_gray(filename_bin)\n",
    "plt.imshow(image_depth,cmap='gray'); plt.axis('off');"
   ]
  },
  {
   "cell_type": "code",
   "execution_count": null,
   "metadata": {
    "collapsed": false
   },
   "outputs": [],
   "source": [
    "from utils import fill_holes\n",
    "\n",
    "image_depth = fill_holes(image_depth)\n",
    "plt.imshow(image_depth,cmap='gray');"
   ]
  },
  {
   "cell_type": "code",
   "execution_count": null,
   "metadata": {
    "collapsed": false
   },
   "outputs": [],
   "source": [
    "image_depth = cv2.bitwise_and(image_depth,image_depth,mask=255-mask_items)\n",
    "pix_depth = image_depth.flatten()\n",
    "pix_depth = pix_depth[pix_depth>0]\n",
    "dmin, dmax = (np.min(pix_depth),np.max(pix_depth))\n",
    "h,b = np.histogram(pix_depth,bins=dmax-dmin)\n",
    "sh = np.cumsum(h)\n",
    "b_high = [b_val for b_val,sh_val in zip(b,sh) if sh_val>sh[-1]/2]\n",
    "dcut = int(b_high[0])\n",
    "plt.hist(pix_depth,bins=dmax-dmin+1);\n",
    "hmax = np.around(max(h)+1000,-3)\n",
    "plt.plot([dcut,dcut],[0,hmax],'r-')\n",
    "plt.axis([dmin,dmax,0,hmax]);"
   ]
  },
  {
   "cell_type": "code",
   "execution_count": null,
   "metadata": {
    "collapsed": false
   },
   "outputs": [],
   "source": [
    "upper_bin = cv2.inRange(image_depth,int(dmin),dcut-1)\n",
    "kernel = np.ones((3,3),np.uint8)\n",
    "upper_bin = cv2.dilate(upper_bin,kernel,iterations = 3)\n",
    "plt.imshow(cv2.bitwise_and(image_bin,image_bin,mask=upper_bin));"
   ]
  },
  {
   "cell_type": "code",
   "execution_count": null,
   "metadata": {
    "collapsed": false
   },
   "outputs": [],
   "source": [
    "lower_bin = 255-upper_bin\n",
    "#lower_bin = cv2.inRange(image_depth,dcut,int(dmax))\n",
    "#kernel = np.ones((3,3),np.uint8)\n",
    "#lower_bin = cv2.dilate(lower_bin,kernel,iterations = 3)\n",
    "plt.imshow(cv2.bitwise_and(image_bin,image_bin,mask=lower_bin));"
   ]
  },
  {
   "cell_type": "markdown",
   "metadata": {},
   "source": [
    "## Cluster colors in upper bin"
   ]
  },
  {
   "cell_type": "code",
   "execution_count": null,
   "metadata": {
    "collapsed": false
   },
   "outputs": [],
   "source": [
    "from utils import cluster_colors\n",
    "\n",
    "positions, weights = cluster_colors(image_bin, upper_bin, items)"
   ]
  },
  {
   "cell_type": "code",
   "execution_count": null,
   "metadata": {
    "collapsed": false
   },
   "outputs": [],
   "source": [
    "pos_ok = [(p,w[0][1]) for p,w in zip(positions,weights) if len(w)==1]\n",
    "pos_unkw = [(p,w) for p,w in zip(positions,weights) if len(w)>1]\n",
    "it_col = {'table_cloth':(255,0,255),'tissue_box':(0,255,255),'glue_sticks':(255,0,0),'toilet_brush':(255,255,0)}\n",
    "#it_col = {'burts_bees_baby_wipes':(255,0,255),'bath_sponge':(0,255,255),'duct_tape':(255,0,0)}\n",
    "image_disp = image_bin.copy()\n",
    "mask_disp = upper_bin.copy()\n",
    "for item in items:\n",
    "    it_pos = [p for p,it in pos_ok if it==item]\n",
    "    for cnt in it_pos:\n",
    "        cv2.drawContours(image_disp,cnt,-1,it_col[item],2)\n",
    "        cv2.drawContours(mask_disp,cnt,-1,(255,),-1)\n",
    "for pos,w in pos_unkw:\n",
    "    for cnt in pos:\n",
    "        cv2.drawContours(image_disp,cnt,-1,(0,0,0),1)\n",
    "        #cv2.drawContours(mask_disp,cnt,-1,(255,),-1)\n",
    "plt.imshow(image_disp); plt.axis('off');"
   ]
  },
  {
   "cell_type": "code",
   "execution_count": null,
   "metadata": {
    "collapsed": false
   },
   "outputs": [],
   "source": [
    "weights"
   ]
  },
  {
   "cell_type": "markdown",
   "metadata": {},
   "source": [
    "## Cluster colors in lower bin"
   ]
  },
  {
   "cell_type": "code",
   "execution_count": null,
   "metadata": {
    "collapsed": false
   },
   "outputs": [],
   "source": [
    "positions, weights = cluster_colors(image_bin, lower_bin, items)"
   ]
  },
  {
   "cell_type": "code",
   "execution_count": null,
   "metadata": {
    "collapsed": false
   },
   "outputs": [],
   "source": [
    "pos_ok = [(p,w[0][1]) for p,w in zip(positions,weights) if len(w)==1]\n",
    "pos_unkw = [(p,w) for p,w in zip(positions,weights) if len(w)>1]\n",
    "it_col = {'table_cloth':(255,0,255),'tissue_box':(0,255,255),'glue_sticks':(255,0,0),'toilet_brush':(255,255,0)}\n",
    "#it_col = {'burts_bees_baby_wipes':(255,0,255),'bath_sponge':(0,255,255),'duct_tape':(255,0,0)}\n",
    "image_disp = image_bin.copy()\n",
    "mask_disp = upper_bin.copy()\n",
    "for item in items:\n",
    "    it_pos = [p for p,it in pos_ok if it==item]\n",
    "    for cnt in it_pos:\n",
    "        cv2.drawContours(image_disp,cnt,-1,it_col[item],2)\n",
    "        cv2.drawContours(mask_disp,cnt,-1,(255,),-1)\n",
    "for pos,w in pos_unkw:\n",
    "    for cnt in pos:\n",
    "        cv2.drawContours(image_disp,cnt,-1,(0,0,0),1)\n",
    "        #cv2.drawContours(mask_disp,cnt,-1,(255,),-1)\n",
    "plt.imshow(image_disp); plt.axis('off');"
   ]
  },
  {
   "cell_type": "code",
   "execution_count": null,
   "metadata": {
    "collapsed": false
   },
   "outputs": [],
   "source": [
    "weights"
   ]
  },
  {
   "cell_type": "code",
   "execution_count": null,
   "metadata": {
    "collapsed": true
   },
   "outputs": [],
   "source": []
  }
 ],
 "metadata": {
  "kernelspec": {
   "display_name": "Python 2",
   "language": "python",
   "name": "python2"
  },
  "language_info": {
   "codemirror_mode": {
    "name": "ipython",
    "version": 2
   },
   "file_extension": ".py",
   "mimetype": "text/x-python",
   "name": "python",
   "nbconvert_exporter": "python",
   "pygments_lexer": "ipython2",
   "version": "2.7.6"
  }
 },
 "nbformat": 4,
 "nbformat_minor": 2
}
