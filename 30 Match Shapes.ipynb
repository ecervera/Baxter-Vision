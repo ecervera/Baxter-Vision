{
 "cells": [
  {
   "cell_type": "code",
   "execution_count": null,
   "metadata": {
    "collapsed": true
   },
   "outputs": [],
   "source": [
    "from utils_io import read_json, load_items\n",
    "\n",
    "params = read_json('parameters.json')\n",
    "ITEM_FOLDER = params['item_folder']\n",
    "items = load_items(ITEM_FOLDER)"
   ]
  },
  {
   "cell_type": "code",
   "execution_count": null,
   "metadata": {
    "collapsed": true
   },
   "outputs": [],
   "source": [
    "from matplotlib import pyplot as plt\n",
    "%matplotlib inline"
   ]
  },
  {
   "cell_type": "code",
   "execution_count": null,
   "metadata": {
    "collapsed": true
   },
   "outputs": [],
   "source": [
    "import cv2, numpy as np\n",
    "from ipywidgets import interact\n",
    "from utils import imread_rgb, imread_gray\n",
    "\n",
    "def load_and_plot(item1, view1, item2, view2):\n",
    "    prefix = ITEM_FOLDER + '/' + item1 + '/' + item1 + '_' + view1\n",
    "    filename = prefix + '_mask.pgm'\n",
    "    mask1 = imread_gray(filename)\n",
    "    prefix = ITEM_FOLDER + '/' + item2 + '/' + item2 + '_' + view2\n",
    "    filename = prefix + '_mask.pgm'\n",
    "    mask2 = imread_gray(filename)\n",
    "    if not mask1 is None:\n",
    "        plt.subplot(121); plt.imshow(mask1,cmap='gray'); plt.axis('off');\n",
    "    if not mask2 is None:\n",
    "        plt.subplot(122); plt.imshow(mask2,cmap='gray'); plt.axis('off');\n",
    "    plt.show();\n",
    "    if not mask1 is None:\n",
    "        cnt1, _ = cv2.findContours(mask1, cv2.RETR_EXTERNAL, cv2.CHAIN_APPROX_SIMPLE)\n",
    "        img1 = np.zeros(mask1.shape)\n",
    "        cv2.drawContours(img1, cnt1, 0, 255)\n",
    "        plt.subplot(121); plt.imshow(img1,cmap='gray'); plt.axis('off');\n",
    "    if not mask2 is None:\n",
    "        cnt2, _ = cv2.findContours(mask2, cv2.RETR_EXTERNAL, cv2.CHAIN_APPROX_SIMPLE)\n",
    "        img2 = np.zeros(mask2.shape)\n",
    "        cv2.drawContours(img2, cnt2, 0, 255)\n",
    "        plt.subplot(122); plt.imshow(img2,cmap='gray'); plt.axis('off');\n",
    "    plt.show();\n",
    "    if not mask1 is None and not mask2 is None:\n",
    "        print('Match:')\n",
    "        print('I1: %f' % cv2.matchShapes(cnt1[0], cnt2[0], cv2.cv.CV_CONTOURS_MATCH_I1, 0.0))\n",
    "        print('I2: %f' % cv2.matchShapes(cnt1[0], cnt2[0], cv2.cv.CV_CONTOURS_MATCH_I2, 0.0))\n",
    "        print('I3: %f' % cv2.matchShapes(cnt1[0], cnt2[0], cv2.cv.CV_CONTOURS_MATCH_I3, 0.0))"
   ]
  },
  {
   "cell_type": "code",
   "execution_count": null,
   "metadata": {
    "collapsed": false
   },
   "outputs": [],
   "source": [
    "views = ['top_01','top-side_01','top-side_02','bottom_01','bottom-side_01','bottom-side_02']\n",
    "interact(load_and_plot,item1=items,view1=views,item2=items,view2=views);"
   ]
  },
  {
   "cell_type": "code",
   "execution_count": null,
   "metadata": {
    "collapsed": true
   },
   "outputs": [],
   "source": []
  }
 ],
 "metadata": {
  "kernelspec": {
   "display_name": "Python 2",
   "language": "python",
   "name": "python2"
  },
  "language_info": {
   "codemirror_mode": {
    "name": "ipython",
    "version": 2
   },
   "file_extension": ".py",
   "mimetype": "text/x-python",
   "name": "python",
   "nbconvert_exporter": "python",
   "pygments_lexer": "ipython2",
   "version": "2.7.6"
  },
  "widgets": {
   "state": {
    "f083faba20d04c629809d381bcd9a805": {
     "views": [
      {
       "cell_index": 3
      }
     ]
    }
   },
   "version": "1.2.0"
  }
 },
 "nbformat": 4,
 "nbformat_minor": 2
}
