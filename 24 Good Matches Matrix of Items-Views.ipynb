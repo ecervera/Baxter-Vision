{
 "cells": [
  {
   "cell_type": "code",
   "execution_count": null,
   "metadata": {
    "collapsed": true
   },
   "outputs": [],
   "source": [
    "from utils_io import read_json, load_items\n",
    "\n",
    "params = read_json('parameters.json')\n",
    "RESIZE_X = params['resize']['x']\n",
    "RESIZE_Y = params['resize']['y']\n",
    "ITEM_FOLDER = params['item_folder']\n",
    "items = load_items(ITEM_FOLDER)\n",
    "\n",
    "hl = [] # histogram list"
   ]
  },
  {
   "cell_type": "code",
   "execution_count": null,
   "metadata": {
    "collapsed": false
   },
   "outputs": [],
   "source": [
    "from utils_sift import read_features_from_file, unpack_keypoint\n",
    "\n",
    "views = ['top_01','top-side_01','top-side_02','bottom_01','bottom-side_01','bottom-side_02']\n",
    "views = ['top_01']\n",
    "for item in items:\n",
    "    for view in views:\n",
    "        try:\n",
    "            filename = ITEM_FOLDER + '/' + item + '/' + item + '_' + view + '_sift.npy'\n",
    "            kp, des = read_features_from_file(filename)\n",
    "            kp, des = unpack_keypoint(kp, des)\n",
    "            des = des.astype('float32')\n",
    "            hl.append( (item, view, kp, des) )\n",
    "        except IOError:\n",
    "            pass\n",
    "        except OSError:\n",
    "            pass"
   ]
  },
  {
   "cell_type": "code",
   "execution_count": null,
   "metadata": {
    "collapsed": true
   },
   "outputs": [],
   "source": [
    "import numpy as np\n",
    "\n",
    "ivdm = np.zeros( (len(hl),len(hl)) ) # Item/view distance matrix"
   ]
  },
  {
   "cell_type": "code",
   "execution_count": null,
   "metadata": {
    "collapsed": false
   },
   "outputs": [],
   "source": [
    "from utils_sift import calc_matches\n",
    "\n",
    "for i, (it1, vi1, kp1, des1) in enumerate(hl):\n",
    "    for j, (it2, vi2, kp2, des2) in enumerate(hl):\n",
    "        if j>i:\n",
    "            good = calc_matches(des1, des2)\n",
    "            #ivdm[i][j] = float(len(good)) / float(len(des1))\n",
    "            ivdm[i][j] = len(good)\n",
    "            ivdm[j][i] = ivdm[i][j]"
   ]
  },
  {
   "cell_type": "code",
   "execution_count": null,
   "metadata": {
    "collapsed": true
   },
   "outputs": [],
   "source": [
    "from matplotlib import pyplot as plt\n",
    "%matplotlib inline"
   ]
  },
  {
   "cell_type": "code",
   "execution_count": null,
   "metadata": {
    "collapsed": false
   },
   "outputs": [],
   "source": [
    "plt.imshow(ivdm,cmap='jet');"
   ]
  },
  {
   "cell_type": "code",
   "execution_count": null,
   "metadata": {
    "collapsed": true
   },
   "outputs": [],
   "source": [
    "n = len(items)\n",
    "idm = np.zeros( (n, n) ) # item distance matrix"
   ]
  },
  {
   "cell_type": "code",
   "execution_count": null,
   "metadata": {
    "collapsed": true
   },
   "outputs": [],
   "source": [
    "n = len(hl)\n",
    "for i in range(n):\n",
    "    for j in range(i+1, n):\n",
    "        iti = items.index(hl[i][0])\n",
    "        itj = items.index(hl[j][0])\n",
    "        if ivdm[i][j] > idm[iti][itj]:\n",
    "            idm[iti][itj] = ivdm[i][j]\n",
    "            idm[itj][iti] = idm[iti][itj]"
   ]
  },
  {
   "cell_type": "code",
   "execution_count": null,
   "metadata": {
    "collapsed": false
   },
   "outputs": [],
   "source": [
    "plt.imshow(idm,cmap='jet');"
   ]
  },
  {
   "cell_type": "code",
   "execution_count": null,
   "metadata": {
    "collapsed": true
   },
   "outputs": [],
   "source": [
    "def plot_distance(item, d):\n",
    "    idx = items.index(item)\n",
    "    plt.plot(idm[idx],'b-'); plt.plot(idm[idx],'bo'); plt.title(items[idx]); plt.plot([0,40],[d,d],'r-'); plt.show();\n",
    "    for d, it in sorted([(dist, it) for it, dist in zip(items, idm[idx]) if dist > d], reverse=True):\n",
    "        print('%d %s' % (d, it))"
   ]
  },
  {
   "cell_type": "code",
   "execution_count": null,
   "metadata": {
    "collapsed": false
   },
   "outputs": [],
   "source": [
    "from ipywidgets import interact\n",
    "interact(plot_distance, item=items, d=(0,50,5));"
   ]
  },
  {
   "cell_type": "code",
   "execution_count": null,
   "metadata": {
    "collapsed": false
   },
   "outputs": [],
   "source": [
    "np.max(idm)"
   ]
  },
  {
   "cell_type": "code",
   "execution_count": null,
   "metadata": {
    "collapsed": false
   },
   "outputs": [],
   "source": [
    "plt.hist(idm.flatten());"
   ]
  },
  {
   "cell_type": "code",
   "execution_count": null,
   "metadata": {
    "collapsed": true
   },
   "outputs": [],
   "source": []
  }
 ],
 "metadata": {
  "kernelspec": {
   "display_name": "Python 2",
   "language": "python",
   "name": "python2"
  },
  "language_info": {
   "codemirror_mode": {
    "name": "ipython",
    "version": 2
   },
   "file_extension": ".py",
   "mimetype": "text/x-python",
   "name": "python",
   "nbconvert_exporter": "python",
   "pygments_lexer": "ipython2",
   "version": "2.7.6"
  },
  "widgets": {
   "state": {
    "dc2c7bfdb18744b09647c5e2e9b7527a": {
     "views": [
      {
       "cell_index": 10
      }
     ]
    }
   },
   "version": "1.2.0"
  }
 },
 "nbformat": 4,
 "nbformat_minor": 2
}
