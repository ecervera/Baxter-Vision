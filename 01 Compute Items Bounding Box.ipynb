{
 "cells": [
  {
   "cell_type": "markdown",
   "metadata": {},
   "source": [
    "<a id=\"top\"></a>\n",
    "# Compute Items Bounding Box\n",
    "First:\n",
    "* [Load Parameters and Items](#load)\n",
    "\n",
    "Then choose one operation:\n",
    "* [Compute and Save](#compute)\n",
    "* [Statistics](#statistics)\n",
    "* [Plot Item Files](#plot)\n",
    "* [Computing Test](#test)"
   ]
  },
  {
   "cell_type": "markdown",
   "metadata": {},
   "source": [
    "## Load Parameters and Items<a id=\"load\"></a>"
   ]
  },
  {
   "cell_type": "code",
   "execution_count": null,
   "metadata": {
    "collapsed": false
   },
   "outputs": [],
   "source": [
    "import json\n",
    "from utils import load_items\n",
    "\n",
    "with open('parameters.json', 'r') as infile:\n",
    "    params = json.load(infile)\n",
    "\n",
    "RESIZE_X = params['resize']['x']\n",
    "RESIZE_Y = params['resize']['y']\n",
    "ITEM_FOLDER = params['item_folder']\n",
    "\n",
    "items = load_items(ITEM_FOLDER)"
   ]
  },
  {
   "cell_type": "markdown",
   "metadata": {},
   "source": [
    "## Compute and Save<a id=\"compute\"></a>"
   ]
  },
  {
   "cell_type": "code",
   "execution_count": null,
   "metadata": {
    "collapsed": true
   },
   "outputs": [],
   "source": [
    "import cv2, glob, json\n",
    "from utils import imread_gray\n",
    "\n",
    "def worker(item):\n",
    "    folder = ITEM_FOLDER + '/' + item + '/'\n",
    "    files = glob.glob(folder + '*_mask.pgm')\n",
    "    for filename in files:\n",
    "        mask = imread_gray(filename)\n",
    "        if not mask is None:\n",
    "            cnt, _ = cv2.findContours(mask,cv2.RETR_EXTERNAL,cv2.CHAIN_APPROX_SIMPLE)\n",
    "            cnt = sorted(cnt, key=lambda x:cv2.contourArea(x), reverse=True)\n",
    "            x,y,w,h = cv2.boundingRect(cnt[0])\n",
    "            bbox = {'x':x,'y':y,'w':w,'h':h}\n",
    "            with open(filename[:-9] + '_bbox.json', 'w') as outfile:\n",
    "                json.dump(bbox, outfile)"
   ]
  },
  {
   "cell_type": "code",
   "execution_count": null,
   "metadata": {
    "collapsed": false
   },
   "outputs": [],
   "source": [
    "%%time\n",
    "from multiprocessing import Pool\n",
    "\n",
    "print('Computing bounding boxes of images')\n",
    "print('* resized to %d x %d' % (RESIZE_X,RESIZE_Y))\n",
    "pool_size = 6\n",
    "pool = Pool(pool_size)\n",
    "result = []\n",
    "for item in items:\n",
    "    result.append( pool.apply_async(worker, (item,)) )\n",
    "pool.close()\n",
    "pool.join()\n",
    "for r in result:\n",
    "     r.get()"
   ]
  },
  {
   "cell_type": "markdown",
   "metadata": {},
   "source": [
    "## Statistics<a id=\"statistics\"></a>"
   ]
  },
  {
   "cell_type": "code",
   "execution_count": null,
   "metadata": {
    "collapsed": false
   },
   "outputs": [],
   "source": [
    "import glob, json\n",
    "\n",
    "item_view = []\n",
    "area = []\n",
    "for item in items:\n",
    "    folder = ITEM_FOLDER + '/' + item + '/'\n",
    "    files = glob.glob(folder + '*_bbox.json')\n",
    "    for filename in files:\n",
    "        with open(filename, 'r') as infile:\n",
    "            bbox = json.load(infile)\n",
    "        x = bbox['x']\n",
    "        y = bbox['y']\n",
    "        w = bbox['w']\n",
    "        h = bbox['h']\n",
    "        item_view.append(filename)\n",
    "        area.append(w*h)"
   ]
  },
  {
   "cell_type": "code",
   "execution_count": null,
   "metadata": {
    "collapsed": false
   },
   "outputs": [],
   "source": [
    "from matplotlib import pyplot as plt\n",
    "%matplotlib inline\n",
    "\n",
    "plt.hist(area,bins=30);"
   ]
  },
  {
   "cell_type": "code",
   "execution_count": null,
   "metadata": {
    "collapsed": false
   },
   "outputs": [],
   "source": [
    "[(a, str(iv.split('/')[-1][:-10])) for a, iv in sorted(zip(area,item_view), reverse=True) if a>230000]"
   ]
  },
  {
   "cell_type": "code",
   "execution_count": null,
   "metadata": {
    "collapsed": false
   },
   "outputs": [],
   "source": [
    "[(a, str(iv.split('/')[-1][:-10])) for a, iv in sorted(zip(area,item_view), reverse=True) if a<50000]"
   ]
  },
  {
   "cell_type": "markdown",
   "metadata": {},
   "source": [
    "## Plot File<a id=\"plot\"></a>"
   ]
  },
  {
   "cell_type": "code",
   "execution_count": null,
   "metadata": {
    "collapsed": false
   },
   "outputs": [],
   "source": [
    "import cv2\n",
    "from utils import imread_rgb\n",
    "from matplotlib import pyplot as plt\n",
    "%matplotlib inline\n",
    "\n",
    "def load_and_plot(item,view):\n",
    "    filename = ITEM_FOLDER + '/' + item + '/' + item + '_' + view + '.png'\n",
    "    image_RGB = imread_rgb(filename)\n",
    "    if not image_RGB is None:\n",
    "        image_RGB = cv2.resize(image_RGB,(RESIZE_X,RESIZE_Y))\n",
    "        with open(filename[:-4] + '_bbox.json', 'r') as infile:\n",
    "            bbox = json.load(infile)\n",
    "        x = bbox['x']\n",
    "        y = bbox['y']\n",
    "        w = bbox['w']\n",
    "        h = bbox['h']\n",
    "        image_plot = image_RGB.copy()\n",
    "        cv2.rectangle(image_plot,(x,y),(x+w,y+h),(0,255,0),2)\n",
    "        plt.subplot(121), plt.imshow(image_plot);\n",
    "        plt.subplot(122), plt.imshow(image_RGB[y:y+h,x:x+w]), plt.axis('off');"
   ]
  },
  {
   "cell_type": "code",
   "execution_count": null,
   "metadata": {
    "collapsed": false
   },
   "outputs": [],
   "source": [
    "from ipywidgets import interact\n",
    "views = ['top_01','top-side_01','top-side_02','bottom_01','bottom-side_01','bottom-side_02']\n",
    "interact(load_and_plot,item=items,view=views);"
   ]
  },
  {
   "cell_type": "markdown",
   "metadata": {},
   "source": [
    "### Plot All Items"
   ]
  },
  {
   "cell_type": "code",
   "execution_count": null,
   "metadata": {
    "collapsed": false
   },
   "outputs": [],
   "source": [
    "for item in items:\n",
    "    for view in views:\n",
    "        print(item + '_' + view)\n",
    "        load_and_plot(item,view)\n",
    "        plt.show()"
   ]
  },
  {
   "cell_type": "markdown",
   "metadata": {
    "collapsed": true
   },
   "source": [
    "## Computing Test<a id=\"test\"></a>"
   ]
  },
  {
   "cell_type": "code",
   "execution_count": null,
   "metadata": {
    "collapsed": true
   },
   "outputs": [],
   "source": [
    "from matplotlib import pyplot as plt\n",
    "%matplotlib inline"
   ]
  },
  {
   "cell_type": "code",
   "execution_count": null,
   "metadata": {
    "collapsed": true
   },
   "outputs": [],
   "source": [
    "import cv2, numpy as np\n",
    "from ipywidgets import interact\n",
    "from utils import imread_rgb, imread_gray\n",
    "\n",
    "def compute_and_plot(item,view):\n",
    "    prefix = ITEM_FOLDER + '/' + item + '/' + item + '_' + view\n",
    "    filename = prefix + '.png'\n",
    "    image_RGB = imread_rgb(filename)\n",
    "    if not image_RGB is None:\n",
    "        image_RGB = cv2.resize(image_RGB,(RESIZE_X,RESIZE_Y))\n",
    "        filename = prefix + '_mask.pgm'\n",
    "        mask = imread_gray(filename)\n",
    "        if not mask is None:\n",
    "            cnt, _ = cv2.findContours(mask,cv2.RETR_EXTERNAL,cv2.CHAIN_APPROX_SIMPLE)\n",
    "            cnt = sorted(cnt, key=lambda x:cv2.contourArea(x), reverse=True)\n",
    "            x,y,w,h = cv2.boundingRect(cnt[0])\n",
    "            image_plot = image_RGB.copy()\n",
    "            cv2.rectangle(image_plot,(x,y),(x+w,y+h),(0,255,0),2)\n",
    "            plt.subplot(121), plt.imshow(image_plot);\n",
    "            plt.subplot(122), plt.imshow(image_RGB[y:y+h,x:x+w]), plt.axis('off');"
   ]
  },
  {
   "cell_type": "code",
   "execution_count": null,
   "metadata": {
    "collapsed": false
   },
   "outputs": [],
   "source": [
    "views = ['top_01','top-side_01','top-side_02','bottom_01','bottom-side_01','bottom-side_02']\n",
    "interact(compute_and_plot,item=items,view=views);"
   ]
  },
  {
   "cell_type": "markdown",
   "metadata": {},
   "source": [
    "### Compute and Plot All Items"
   ]
  },
  {
   "cell_type": "code",
   "execution_count": null,
   "metadata": {
    "collapsed": false
   },
   "outputs": [],
   "source": [
    "for item in items:\n",
    "    for view in views:\n",
    "        print(item + '_' + view)\n",
    "        compute_and_plot(item,view)\n",
    "        plt.show()"
   ]
  },
  {
   "cell_type": "markdown",
   "metadata": {},
   "source": [
    "[Top](#top)"
   ]
  }
 ],
 "metadata": {
  "kernelspec": {
   "display_name": "Python 2",
   "language": "python",
   "name": "python2"
  },
  "language_info": {
   "codemirror_mode": {
    "name": "ipython",
    "version": 2
   },
   "file_extension": ".py",
   "mimetype": "text/x-python",
   "name": "python",
   "nbconvert_exporter": "python",
   "pygments_lexer": "ipython2",
   "version": "2.7.6"
  }
 },
 "nbformat": 4,
 "nbformat_minor": 2
}
