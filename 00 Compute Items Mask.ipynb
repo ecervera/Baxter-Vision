{
 "cells": [
  {
   "cell_type": "markdown",
   "metadata": {},
   "source": [
    "<a id=\"top\"></a>\n",
    "# Compute Items Mask\n",
    "First:\n",
    "* [Load Parameters and Items](#load)\n",
    "\n",
    "Then choose one operation:\n",
    "* [Compute and Save](#compute)\n",
    "* [Statistics](#statistics)\n",
    "* [Plot Item Files](#plot)\n",
    "* [Computing Test](#test)"
   ]
  },
  {
   "cell_type": "markdown",
   "metadata": {},
   "source": [
    "## Load Parameters and Items<a id=\"load\"></a>"
   ]
  },
  {
   "cell_type": "code",
   "execution_count": 1,
   "metadata": {
    "collapsed": false
   },
   "outputs": [],
   "source": [
    "import json\n",
    "from utils import load_items\n",
    "\n",
    "with open('parameters.json', 'r') as infile:\n",
    "    params = json.load(infile)\n",
    "\n",
    "RESIZE_X = params['resize']['x']\n",
    "RESIZE_Y = params['resize']['y']\n",
    "ITEM_FOLDER = params['item_folder']\n",
    "BACKGROUND_THRESHOLD = params['background_threshold']\n",
    "\n",
    "items = load_items(ITEM_FOLDER)"
   ]
  },
  {
   "cell_type": "markdown",
   "metadata": {},
   "source": [
    "## Compute and Save<a id=\"compute\"></a>\n",
    "\n",
    "Issues:\n",
    "* make a version for items with holes, e.g.:\n",
    "  * fiskars_scissors\n",
    "  * duct_tape\n",
    "  * ..."
   ]
  },
  {
   "cell_type": "code",
   "execution_count": null,
   "metadata": {
    "collapsed": true
   },
   "outputs": [],
   "source": [
    "import cv2, glob\n",
    "from utils import imread_rgb, item_mask\n",
    "\n",
    "def worker(item):\n",
    "        folder = ITEM_FOLDER + '/' + item + '/'\n",
    "        files = glob.glob(folder + '*.png')\n",
    "        for filename in files:\n",
    "            image_RGB = imread_rgb(filename)\n",
    "            if not image_RGB is None:\n",
    "                image_RGB = cv2.resize(image_RGB,(RESIZE_X,RESIZE_Y))\n",
    "                mask = item_mask(image_RGB, BACKGROUND_THRESHOLD)\n",
    "                cv2.imwrite(filename[:-4]+'_mask.pgm', mask)"
   ]
  },
  {
   "cell_type": "code",
   "execution_count": null,
   "metadata": {
    "collapsed": false
   },
   "outputs": [],
   "source": [
    "%%time\n",
    "from multiprocessing import Pool\n",
    "\n",
    "print('Computing mask of images')\n",
    "print('* resized to %d x %d' % (RESIZE_X,RESIZE_Y))\n",
    "print('* background threshold %d' % (BACKGROUND_THRESHOLD))\n",
    "pool_size = 6\n",
    "pool = Pool(pool_size)\n",
    "result = []\n",
    "for item in items:\n",
    "    result.append( pool.apply_async(worker, (item,)) )\n",
    "pool.close()\n",
    "pool.join()\n",
    "for r in result:\n",
    "     r.get()"
   ]
  },
  {
   "cell_type": "markdown",
   "metadata": {},
   "source": [
    "[Top](#top)"
   ]
  },
  {
   "cell_type": "markdown",
   "metadata": {},
   "source": [
    "## Statistics<a id=\"statistics\"></a>"
   ]
  },
  {
   "cell_type": "code",
   "execution_count": 2,
   "metadata": {
    "collapsed": false
   },
   "outputs": [],
   "source": [
    "import cv2, glob, numpy as np\n",
    "from utils import imread_gray\n",
    "\n",
    "item_view = []\n",
    "area = []\n",
    "for item in items:\n",
    "    folder = ITEM_FOLDER + '/' + item + '/'\n",
    "    files = glob.glob(folder + '*_mask.pgm')\n",
    "    for filename in files:\n",
    "        mask = imread_gray(filename)\n",
    "        if not mask is None:\n",
    "            item_view.append(filename)\n",
    "            area.append( np.sum(mask==255) )"
   ]
  },
  {
   "cell_type": "code",
   "execution_count": 3,
   "metadata": {
    "collapsed": false
   },
   "outputs": [
    {
     "data": {
      "image/png": "[encoded data removed]",
      "text/plain": [
       "<matplotlib.figure.Figure at 0x7f4fe12d1d50>"
      ]
     },
     "metadata": {},
     "output_type": "display_data"
    }
   ],
   "source": [
    "from matplotlib import pyplot as plt\n",
    "%matplotlib inline\n",
    "plt.hist(area,bins=30); plt.ticklabel_format(style='sci', axis='x', scilimits=(0,0));"
   ]
  },
  {
   "cell_type": "code",
   "execution_count": 4,
   "metadata": {
    "collapsed": false
   },
   "outputs": [
    {
     "data": {
      "text/plain": [
       "[(192870, 'robots_everywhere_top_01'),\n",
       " (185258, 'robots_everywhere_bottom_01'),\n",
       " (165758, 'bath_sponge_bottom_01'),\n",
       " (165429, 'pie_plates_top_01'),\n",
       " (164299, 'balloons_bottom_01'),\n",
       " (160101, 'avery_binder_bottom_01')]"
      ]
     },
     "execution_count": 4,
     "metadata": {},
     "output_type": "execute_result"
    }
   ],
   "source": [
    "[(a, str(iv.split('/')[-1][:-9])) for a, iv in sorted(zip(area,item_view), reverse=True) if a>160000]"
   ]
  },
  {
   "cell_type": "code",
   "execution_count": 5,
   "metadata": {
    "collapsed": false
   },
   "outputs": [
    {
     "data": {
      "text/plain": [
       "[(29613, 'measuring_spoons_bottom-side_02'),\n",
       " (29357, 'plastic_wine _glass_top_01'),\n",
       " (29336, 'measuring_spoons_top-side_02'),\n",
       " (27554, 'fiskars_scissors_top-side_01'),\n",
       " (27123, 'measuring_spoons_top-side_01'),\n",
       " (26903, 'fiskars_scissors_bottom-side_01'),\n",
       " (26369, 'toilet_brush_bottom_01'),\n",
       " (25713, 'toilet_brush_top_01'),\n",
       " (25270, 'fiskars_scissors_top-side_02')]"
      ]
     },
     "execution_count": 5,
     "metadata": {},
     "output_type": "execute_result"
    }
   ],
   "source": [
    "[(a, str(iv.split('/')[-1][:-9])) for a, iv in sorted(zip(area,item_view), reverse=True) if a<30000]"
   ]
  },
  {
   "cell_type": "markdown",
   "metadata": {},
   "source": [
    "[Top](#top)"
   ]
  },
  {
   "cell_type": "markdown",
   "metadata": {},
   "source": [
    "## Plot Item Files<a id=\"plot\"></a>"
   ]
  },
  {
   "cell_type": "code",
   "execution_count": 6,
   "metadata": {
    "collapsed": true
   },
   "outputs": [],
   "source": [
    "from matplotlib import pyplot as plt\n",
    "%matplotlib inline"
   ]
  },
  {
   "cell_type": "code",
   "execution_count": 7,
   "metadata": {
    "collapsed": true
   },
   "outputs": [],
   "source": [
    "import cv2, numpy as np\n",
    "from ipywidgets import interact\n",
    "from utils import imread_rgb, imread_gray\n",
    "\n",
    "def load_and_plot(item,view):\n",
    "    prefix = ITEM_FOLDER + '/' + item + '/' + item + '_' + view\n",
    "    filename = prefix + '.png'\n",
    "    image_RGB = imread_rgb(filename)\n",
    "    if not image_RGB is None:\n",
    "        image_RGB = cv2.resize(image_RGB,(RESIZE_X,RESIZE_Y))\n",
    "        plt.subplot(121); plt.imshow(image_RGB); plt.axis('off');\n",
    "        filename = prefix + '_mask.pgm'\n",
    "        mask = imread_gray(filename)\n",
    "        if not mask is None:\n",
    "            area = np.sum(mask==255) \n",
    "            print('Area: %d' % area)\n",
    "            plt.subplot(122); plt.imshow( mask,cmap='gray'); plt.axis('off');"
   ]
  },
  {
   "cell_type": "code",
   "execution_count": 8,
   "metadata": {
    "collapsed": false
   },
   "outputs": [
    {
     "name": "stdout",
     "output_type": "stream",
     "text": [
      "Area: 85464\n"
     ]
    },
    {
     "data": {
      "image/png": "[encoded data removed]",
      "text/plain": [
       "<matplotlib.figure.Figure at 0x7f4fe0da7090>"
      ]
     },
     "metadata": {},
     "output_type": "display_data"
    }
   ],
   "source": [
    "views = ['top_01','top-side_01','top-side_02','bottom_01','bottom-side_01','bottom-side_02']\n",
    "interact(load_and_plot,item=items,view=views);"
   ]
  },
  {
   "cell_type": "markdown",
   "metadata": {},
   "source": [
    "### Plot All Items"
   ]
  },
  {
   "cell_type": "code",
   "execution_count": null,
   "metadata": {
    "collapsed": false
   },
   "outputs": [],
   "source": [
    "for item in items:\n",
    "    for view in views:\n",
    "        print(item + '_' + view)\n",
    "        load_and_plot(item,view)\n",
    "        plt.show()"
   ]
  },
  {
   "cell_type": "markdown",
   "metadata": {},
   "source": [
    "[Top](#top)"
   ]
  },
  {
   "cell_type": "markdown",
   "metadata": {
    "collapsed": true
   },
   "source": [
    "## Computing Test<a id=\"test\"></a>"
   ]
  },
  {
   "cell_type": "code",
   "execution_count": null,
   "metadata": {
    "collapsed": true
   },
   "outputs": [],
   "source": [
    "from matplotlib import pyplot as plt\n",
    "%matplotlib inline"
   ]
  },
  {
   "cell_type": "code",
   "execution_count": null,
   "metadata": {
    "collapsed": true
   },
   "outputs": [],
   "source": [
    "import cv2, numpy as np\n",
    "from ipywidgets import interact\n",
    "from utils import imread_rgb, item_mask\n",
    "\n",
    "def compute_and_plot(item,view):\n",
    "    prefix = ITEM_FOLDER + '/' + item + '/' + item + '_' + view\n",
    "    filename = prefix + '.png'\n",
    "    image_RGB = imread_rgb(filename)\n",
    "    if not image_RGB is None:\n",
    "        image_RGB = cv2.resize(image_RGB,(RESIZE_X,RESIZE_Y))\n",
    "        mask = item_mask(image_RGB, BACKGROUND_THRESHOLD)\n",
    "        plt.subplot(121); plt.imshow(image_RGB); plt.axis('off');\n",
    "        plt.subplot(122); plt.imshow(mask,cmap='gray'); plt.axis('off')\n",
    "        area = np.sum(mask==255)\n",
    "        print('Area: %d pixels' % area)"
   ]
  },
  {
   "cell_type": "code",
   "execution_count": null,
   "metadata": {
    "collapsed": false
   },
   "outputs": [],
   "source": [
    "views = ['top_01','top-side_01','top-side_02','bottom_01','bottom-side_01','bottom-side_02']\n",
    "interact(compute_and_plot,item=items,view=views);"
   ]
  },
  {
   "cell_type": "markdown",
   "metadata": {},
   "source": [
    "### Compute and Plot All Items"
   ]
  },
  {
   "cell_type": "code",
   "execution_count": null,
   "metadata": {
    "collapsed": false
   },
   "outputs": [],
   "source": [
    "for item in items:\n",
    "    for view in views:\n",
    "        print(item + '_' + view)\n",
    "        compute_and_plot(item,view)\n",
    "        plt.show()"
   ]
  },
  {
   "cell_type": "markdown",
   "metadata": {},
   "source": [
    "[Top](#top)"
   ]
  }
 ],
 "metadata": {
  "kernelspec": {
   "display_name": "Python 2",
   "language": "python",
   "name": "python2"
  },
  "language_info": {
   "codemirror_mode": {
    "name": "ipython",
    "version": 2
   },
   "file_extension": ".py",
   "mimetype": "text/x-python",
   "name": "python",
   "nbconvert_exporter": "python",
   "pygments_lexer": "ipython2",
   "version": "2.7.6"
  },
  "widgets": {
   "state": {
    "03ce964f419944e9b49dbfca40b33daa": {
     "views": [
      {
       "cell_index": 16
      }
     ]
    }
   },
   "version": "1.2.0"
  }
 },
 "nbformat": 4,
 "nbformat_minor": 2
}
