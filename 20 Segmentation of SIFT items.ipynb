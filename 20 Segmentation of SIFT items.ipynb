{
 "cells": [
  {
   "cell_type": "code",
   "execution_count": null,
   "metadata": {
    "collapsed": true
   },
   "outputs": [],
   "source": [
    "from matplotlib import pyplot as plt\n",
    "%matplotlib inline"
   ]
  },
  {
   "cell_type": "markdown",
   "metadata": {},
   "source": [
    "## Load Parameters"
   ]
  },
  {
   "cell_type": "code",
   "execution_count": null,
   "metadata": {
    "collapsed": true
   },
   "outputs": [],
   "source": [
    "from utils_io import read_json\n",
    "\n",
    "params = read_json('parameters.json')\n",
    "RESIZE_X = params['resize']['x']\n",
    "RESIZE_Y = params['resize']['y']\n",
    "ITEM_FOLDER = params['item_folder']"
   ]
  },
  {
   "cell_type": "markdown",
   "metadata": {},
   "source": [
    "## Input Data\n",
    "* Image of the bin\n",
    "* List of items in the bin"
   ]
  },
  {
   "cell_type": "code",
   "execution_count": null,
   "metadata": {
    "collapsed": true
   },
   "outputs": [],
   "source": [
    "bin_stamp = '170405145336'\n",
    "contents = [\"Colgate_Toothbrush_4PK\",\"Epsom_Salts\",\"Duct_Tape\",\n",
    "            \"Bath_Sponge\",\"Crayons\",\"Burts_Bees_Baby_Wipes\"]"
   ]
  },
  {
   "cell_type": "code",
   "execution_count": null,
   "metadata": {
    "collapsed": true
   },
   "outputs": [],
   "source": [
    "bin_stamp = '170405145538'\n",
    "contents = [\"glue_sticks\",\"tissue_box\",\"laugh_out_loud_jokes\",\n",
    "            \"toilet_brush\",\"expo_eraser\",\"table_cloth\"]"
   ]
  },
  {
   "cell_type": "code",
   "execution_count": null,
   "metadata": {
    "collapsed": true
   },
   "outputs": [],
   "source": [
    "bin_stamp = '170508103814'\n",
    "contents = [\"mouse_traps\",\"composition_book\",\"tennis_ball_container\",\n",
    "            \"tissue_box\"]"
   ]
  },
  {
   "cell_type": "code",
   "execution_count": null,
   "metadata": {
    "collapsed": true
   },
   "outputs": [],
   "source": [
    "bin_stamp = '170508105421'\n",
    "contents = [\"mouse_traps\",\"composition_book\",\"tennis_ball_container\",\n",
    "            \"tissue_box\"]"
   ]
  },
  {
   "cell_type": "code",
   "execution_count": null,
   "metadata": {
    "collapsed": true
   },
   "outputs": [],
   "source": [
    "bin_stamp = '170508105808'\n",
    "contents = [\"laugh_out_loud_jokes\",\"reynolds_wrap\",\"robots_dvd\",\n",
    "            \"hanes_socks\", \"flashlight\"]"
   ]
  },
  {
   "cell_type": "code",
   "execution_count": null,
   "metadata": {
    "collapsed": true
   },
   "outputs": [],
   "source": [
    "items = [s.lower() for s in contents]"
   ]
  },
  {
   "cell_type": "markdown",
   "metadata": {},
   "source": [
    "### Compute Features in Bin"
   ]
  },
  {
   "cell_type": "code",
   "execution_count": null,
   "metadata": {},
   "outputs": [],
   "source": [
    "from utils_io import imread_rgb\n",
    "from utils_sift import compute_sift\n",
    "\n",
    "filename_bin = 'bin/' + bin_stamp + '.png'\n",
    "image_bin = imread_rgb(filename_bin)\n",
    "(kp_bin, des_bin) = compute_sift(image_bin)"
   ]
  },
  {
   "cell_type": "markdown",
   "metadata": {},
   "source": [
    "### Match Bin and Items Features"
   ]
  },
  {
   "cell_type": "code",
   "execution_count": null,
   "metadata": {},
   "outputs": [],
   "source": [
    "from utils_sift import match_items\n",
    "\n",
    "item_d, recognised_items, mask_items = match_items(image_bin, kp_bin, des_bin, items)"
   ]
  },
  {
   "cell_type": "markdown",
   "metadata": {},
   "source": [
    "### Mask recognised items"
   ]
  },
  {
   "cell_type": "code",
   "execution_count": null,
   "metadata": {
    "scrolled": true
   },
   "outputs": [],
   "source": [
    "plt.imshow(mask_items,cmap='gray'), plt.axis('off');"
   ]
  },
  {
   "cell_type": "markdown",
   "metadata": {},
   "source": [
    "### Save mask and recognised items data (names and coordinates)"
   ]
  },
  {
   "cell_type": "code",
   "execution_count": null,
   "metadata": {
    "collapsed": true
   },
   "outputs": [],
   "source": [
    "from utils_io import imwrite\n",
    "\n",
    "filename_mask = 'bin/' + bin_stamp + '_item_mask.pgm'\n",
    "imwrite(filename_mask, mask_items)"
   ]
  },
  {
   "cell_type": "code",
   "execution_count": null,
   "metadata": {
    "collapsed": true
   },
   "outputs": [],
   "source": [
    "from utils_io import write_json\n",
    "\n",
    "filename_items = 'bin/' + bin_stamp + '_items.json'\n",
    "serial_data = [(name, proj.tolist()) for name, proj in recognised_items]\n",
    "write_json(filename_items, serial_data)"
   ]
  },
  {
   "cell_type": "code",
   "execution_count": null,
   "metadata": {
    "collapsed": true
   },
   "outputs": [],
   "source": []
  }
 ],
 "metadata": {
  "kernelspec": {
   "display_name": "Python 2",
   "language": "python",
   "name": "python2"
  },
  "language_info": {
   "codemirror_mode": {
    "name": "ipython",
    "version": 2
   },
   "file_extension": ".py",
   "mimetype": "text/x-python",
   "name": "python",
   "nbconvert_exporter": "python",
   "pygments_lexer": "ipython2",
   "version": "2.7.6"
  }
 },
 "nbformat": 4,
 "nbformat_minor": 2
}
